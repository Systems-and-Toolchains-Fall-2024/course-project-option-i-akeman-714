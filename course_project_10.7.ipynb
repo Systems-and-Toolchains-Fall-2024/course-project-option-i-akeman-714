{
 "cells": [
  {
   "cell_type": "markdown",
   "id": "67723351",
   "metadata": {},
   "source": [
    "# Course Project \n",
    "*Option 1*\n",
    "Daren Yao & Jinsong Yuan"
   ]
  },
  {
   "cell_type": "markdown",
   "id": "ea797410",
   "metadata": {},
   "source": [
    "## TASK I\n"
   ]
  },
  {
   "cell_type": "code",
   "execution_count": 1,
   "id": "c1b8a7ee-3808-40cc-a302-ee00ecaaf299",
   "metadata": {},
   "outputs": [
    {
     "name": "stderr",
     "output_type": "stream",
     "text": [
      "C:\\spark\\spark-3.5.2-bin-hadoop3\\python\\pyspark\\sql\\context.py:113: FutureWarning: Deprecated in 3.0.0. Use SparkSession.builder.getOrCreate() instead.\n",
      "  warnings.warn(\n"
     ]
    }
   ],
   "source": [
    "# Uncomment the following lines if you are using Windows!\n",
    "import findspark\n",
    "findspark.init()\n",
    "findspark.find()\n",
    "import pyspark\n",
    "from pyspark.sql import SparkSession\n",
    "from pyspark import SparkContext, SQLContext\n",
    "\n",
    "# Create Configuration object for Spark.\n",
    "conf = pyspark.SparkConf()\\\n",
    " .set('spark.driver.host','127.0.0.1')\\\n",
    " .setAppName('SPARK-POSTGRES')\\\n",
    " .setMaster(\"local[*]\")\\\n",
    " .set(\"spark.jars\", \"C:\\spark\\spark-3.5.2-bin-hadoop3\\postgresql-42.7.4.jar\")\n",
    "\n",
    "# need to change the postgresql path \n",
    "\n",
    "# Create Spark Context with the new configurations rather than relying on the default \n",
    "sc = SparkContext.getOrCreate(conf=conf)\n",
    "# You need to create SQL Context to conduct some database operations like what we will\n",
    "sqlContext = SQLContext(sc)\n",
    "# If you have SQL context, you create the session from the Spark Context\n",
    "spark = sqlContext.sparkSession.builder.getOrCreate()"
   ]
  },
  {
   "cell_type": "code",
   "execution_count": 2,
   "id": "c78cd95d",
   "metadata": {},
   "outputs": [],
   "source": [
    "from pyspark.sql.functions import col, when, isnull, count, lit, avg, sum, isnan, desc, row_number, expr, regexp_extract\n",
    "from pyspark.sql.functions import *\n",
    "from pyspark.sql import Row\n",
    "from pyspark.sql.types import StringType, IntegerType, FloatType, DoubleType"
   ]
  },
  {
   "cell_type": "code",
   "execution_count": 3,
   "id": "42f721c4",
   "metadata": {},
   "outputs": [],
   "source": [
    "# DO this everytime reopening the ipynb\n",
    "# change the username, password, table name.\n",
    "db_properties={}\n",
    "db_properties['username']=\"postgres\"  \n",
    "#db_properties['password']=\"YYAAOOdaren200@\"\n",
    "db_properties['password']=\"714179\"\n",
    "db_properties['url']= \"jdbc:postgresql://localhost:5432/postgres\"\n",
    "db_properties['table']=\"fifa.fifa_uncleaned\"   # remember to change the table name \n",
    "db_properties['driver']=\"org.postgresql.Driver\""
   ]
  },
  {
   "cell_type": "markdown",
   "id": "69172765",
   "metadata": {},
   "source": [
    "#### A. Reading the data"
   ]
  },
  {
   "cell_type": "code",
   "execution_count": 4,
   "id": "c5af3da1-0e2e-4259-86f0-73b38030efb2",
   "metadata": {},
   "outputs": [],
   "source": [
    "df_list=[]\n",
    "for i in range(15,23,1):\n",
    "    df_list.append(spark.read.csv(r\"./data/players_{}.csv\".format(i),header=True, inferSchema= True))"
   ]
  },
  {
   "cell_type": "code",
   "execution_count": 5,
   "id": "182ce0e2",
   "metadata": {},
   "outputs": [],
   "source": [
    "df_list_female=[]\n",
    "for i in range(16,23,1):\n",
    "    df_list_female.append(spark.read.csv(r\"./data/female_players_{}.csv\".format(i),header=True, inferSchema= True))"
   ]
  },
  {
   "cell_type": "markdown",
   "id": "caa79375",
   "metadata": {},
   "source": [
    "#### B. Add new column"
   ]
  },
  {
   "cell_type": "code",
   "execution_count": 6,
   "id": "64d48d59-f896-467c-abf8-1afd77965383",
   "metadata": {},
   "outputs": [],
   "source": [
    "for i in range(15,23,1):\n",
    "    df_list[i-15]=df_list[i-15].withColumn('year',lit(2000+i))\n",
    "    df_list[i-15]=df_list[i-15].withColumn('gender',lit(1))"
   ]
  },
  {
   "cell_type": "code",
   "execution_count": 7,
   "id": "717c6844",
   "metadata": {},
   "outputs": [],
   "source": [
    "for i in range(16,23,1):\n",
    "    df_list_female[i-16]=df_list_female[i-16].withColumn('year',lit(2000+i))\n",
    "    df_list_female[i-16]=df_list_female[i-16].withColumn('gender',lit(0))"
   ]
  },
  {
   "cell_type": "markdown",
   "id": "a8be268d",
   "metadata": {},
   "source": [
    "#### C. Merge the data"
   ]
  },
  {
   "cell_type": "code",
   "execution_count": 8,
   "id": "7bc11e09",
   "metadata": {},
   "outputs": [],
   "source": [
    "# union function needs to be used when two df have the same structure\n",
    "def union_df(df_list,df_list_female):\n",
    "    df_union=df_list[0]\n",
    "    for i in range(15,22,1):\n",
    "        df_union=df_union.union(df_list[i-14])\n",
    "    for i in range(16,23,1):\n",
    "        df_union=df_union.union(df_list_female[i-16])\n",
    "    return df_union"
   ]
  },
  {
   "cell_type": "code",
   "execution_count": 9,
   "id": "6997c83a",
   "metadata": {},
   "outputs": [
    {
     "data": {
      "text/plain": [
       "112"
      ]
     },
     "execution_count": 9,
     "metadata": {},
     "output_type": "execute_result"
    }
   ],
   "source": [
    "# check if the dfs have the same structure\n",
    "len(df_list[0].columns)"
   ]
  },
  {
   "cell_type": "code",
   "execution_count": 10,
   "id": "3136d554",
   "metadata": {},
   "outputs": [
    {
     "data": {
      "text/plain": [
       "112"
      ]
     },
     "execution_count": 10,
     "metadata": {},
     "output_type": "execute_result"
    }
   ],
   "source": [
    "len(df_list_female[0].columns)"
   ]
  },
  {
   "cell_type": "code",
   "execution_count": 11,
   "id": "38387388",
   "metadata": {},
   "outputs": [],
   "source": [
    "df_union=union_df(df_list,df_list_female)"
   ]
  },
  {
   "cell_type": "code",
   "execution_count": 12,
   "id": "d2aa61a9",
   "metadata": {},
   "outputs": [
    {
     "name": "stdout",
     "output_type": "stream",
     "text": [
      "+-------+-----------------+--------------------+----------+--------------------+----------------+-----------------+-----------------+------------------+------------------+-----------------+------------------+-----------------+------------------+--------------------+--------------------+------------------+-------------+------------------+--------------------+-----------+-------------------------+-----------------+----------------+-----------------+---------------+--------------------+--------------+------------------+------------------+------------------------+-------------+-----------+---------+--------------------+-----------+-------------+------------------+------------------+------------------+------------------+------------------+-----------------+------------------+-------------------+--------------------------+-----------------------+------------------+------------------+------------------+------------------+------------------+------------------+---------------------+---------------------+------------------+------------------+-----------------+-----------------+------------------+------------------+------------------+------------------+--------------------+-----------------------+---------------------+------------------+-------------------+-------------------+---------------------------+-------------------------+------------------------+------------------+--------------------+-------------------+-----------------------+--------------------+------------------+------------------+------------------+------------------+------------------+------------------+------------------+------------------+------------------+-----------------+-----------------+-----------------+------------------+------------------+------------------+------------------+------------------+------------------+------------------+------------------+------------------+------------------+------------------+-----------------+-----------------+-----------------+------------------+------------------+--------------------+--------------------+--------------------+--------------------+--------------------+------------------+-------------------+\n",
      "|summary|        sofifa_id|          player_url|short_name|           long_name|player_positions|          overall|        potential|         value_eur|          wage_eur|              age|         height_cm|        weight_kg|      club_team_id|           club_name|         league_name|      league_level|club_position|club_jersey_number|    club_loaned_from|club_joined|club_contract_valid_until|   nationality_id|nationality_name|   nation_team_id|nation_position|nation_jersey_number|preferred_foot|         weak_foot|       skill_moves|international_reputation|    work_rate|  body_type|real_face|  release_clause_eur|player_tags|player_traits|              pace|          shooting|           passing|         dribbling|         defending|           physic|attacking_crossing|attacking_finishing|attacking_heading_accuracy|attacking_short_passing| attacking_volleys|   skill_dribbling|       skill_curve| skill_fk_accuracy|skill_long_passing|skill_ball_control|movement_acceleration|movement_sprint_speed|  movement_agility|movement_reactions| movement_balance| power_shot_power|     power_jumping|     power_stamina|    power_strength|  power_long_shots|mentality_aggression|mentality_interceptions|mentality_positioning|  mentality_vision|mentality_penalties|mentality_composure|defending_marking_awareness|defending_standing_tackle|defending_sliding_tackle|goalkeeping_diving|goalkeeping_handling|goalkeeping_kicking|goalkeeping_positioning|goalkeeping_reflexes| goalkeeping_speed|                ls|                st|                rs|                lw|                lf|                cf|                rf|                rw|              lam|              cam|              ram|                lm|               lcm|                cm|               rcm|                rm|               lwb|               ldm|               cdm|               rdm|               rwb|                lb|              lcb|               cb|              rcb|                rb|                gk|     player_face_url|       club_logo_url|       club_flag_url|     nation_logo_url|     nation_flag_url|              year|             gender|\n",
      "+-------+-----------------+--------------------+----------+--------------------+----------------+-----------------+-----------------+------------------+------------------+-----------------+------------------+-----------------+------------------+--------------------+--------------------+------------------+-------------+------------------+--------------------+-----------+-------------------------+-----------------+----------------+-----------------+---------------+--------------------+--------------+------------------+------------------+------------------------+-------------+-----------+---------+--------------------+-----------+-------------+------------------+------------------+------------------+------------------+------------------+-----------------+------------------+-------------------+--------------------------+-----------------------+------------------+------------------+------------------+------------------+------------------+------------------+---------------------+---------------------+------------------+------------------+-----------------+-----------------+------------------+------------------+------------------+------------------+--------------------+-----------------------+---------------------+------------------+-------------------+-------------------+---------------------------+-------------------------+------------------------+------------------+--------------------+-------------------+-----------------------+--------------------+------------------+------------------+------------------+------------------+------------------+------------------+------------------+------------------+------------------+-----------------+-----------------+-----------------+------------------+------------------+------------------+------------------+------------------+------------------+------------------+------------------+------------------+------------------+------------------+-----------------+-----------------+-----------------+------------------+------------------+--------------------+--------------------+--------------------+--------------------+--------------------+------------------+-------------------+\n",
      "|  count|           144323|              144323|    144323|              144323|          144323|           144323|           144323|            140228|            140503|           144323|            144323|           144323|            140449|              140449|              140449|            140064|       140449|            140449|                8305|     132144|                   140449|           144323|          144323|            10688|          10688|               10688|        144323|            144323|            144323|                  144323|       144323|     144323|   144323|               86543|      11690|        64138|            128249|            128249|            128249|            128249|            128249|           128249|            144323|             144323|                    144323|                 144323|            144323|            144323|            144323|            144323|            144323|            144323|               144323|               144323|            144323|            144323|           144323|           144323|            144323|            144323|            144323|            144323|              144323|                 144323|               144323|            144323|             144323|             112297|                     144323|                   144323|                  144323|            144323|              144323|             144323|                 144323|              144323|             16074|            144323|            144323|            144323|            144323|            144323|            144323|            144323|            144323|           144323|           144323|           144323|            144323|            144323|            144323|            144323|            144323|            144323|            144323|            144323|            144323|            144323|            144323|           144323|           144323|           144323|            144323|            144323|              144323|              140449|              140449|               10688|              144323|            144323|             144323|\n",
      "|   mean|211967.0790864935|                NULL|      NULL|                NULL|            NULL|65.87099076377292|70.86494183186325|2269630.0881421682|11110.377358490567|25.13769808000111|181.01369844030404|75.03270441994692|44486.178762397736|                NULL|                NULL|1.3785840758510395|         NULL| 19.99129933285392|                NULL|       NULL|       2019.9270838525017|55.69959050186041|            NULL|48179.61910553892|           NULL|  12.115269461077844|          NULL| 2.941007323849975|2.3306818732980883|      1.1229395176098058|         NULL|       NULL|     NULL|   4686886.264631455|       NULL|         NULL|  68.0648192188633| 52.31459114690953| 57.01834712161499| 62.14579450911898| 51.16110067135026|64.88116866408315|49.820915585180465|  45.66066392744053|         52.42257990756844|     58.416780416149884| 43.17719975333107| 55.25433229630759|47.343181613464246|43.166127367086325| 52.61782252309057| 58.32273442209488|    64.77217075587397|    64.95886310567269| 63.40764119371133|61.800648545276914|  64.035836283891|56.66906175730826| 65.00749707253868| 63.22737193655897| 65.18889574080362| 47.32516646688331|  55.767382884224965|      46.67863750060628|    50.05596474574392| 53.03182444932547|   48.8759934314004|  57.93766529827155|          45.75312320281591|        47.69115802748003|       45.72127796678284|16.578265418540358|  16.326905621418625| 16.187385240051828|     16.334215613588963|  16.690513639544633| 39.51748164738086| 54.84716442753537| 54.84716442753537| 54.84716442753537|55.218112826062196| 54.97691415149071| 54.97691415149071| 54.97691415149071|55.218112826062196|55.77282390633889|55.77282390633889|55.77282390633889| 56.40396178616122|  54.7294420861128|  54.7294420861128|  54.7294420861128| 56.40396178616122| 54.07243479330709|53.645390070921984|53.645390070921984|53.645390070921984| 54.07243479330709| 52.94140736285651|53.36732524142819|53.36732524142819|53.36732524142819| 52.94140736285651| 19.99489958559133|                NULL|                NULL|                NULL|                NULL|                NULL|2018.6535687312487| 0.9844515427201486|\n",
      "| stddev|34700.15102127671|                NULL|      NULL|                NULL|            NULL|7.165768763091288| 6.35522435346123| 5779837.296903276| 22248.69179859546| 4.65159121161672| 6.900499819409998|7.184165890463856|53281.055198273956|                NULL|                NULL|0.7484169613886598|         NULL|16.662096242167355|                NULL|       NULL|        2.460571780952665|47.98865708256204|            NULL|54621.36165198883|           NULL|   6.751646316974512|          NULL|0.6622066105582111|0.7536315978884554|     0.41930061107308275|         NULL|       NULL|     NULL|1.1694195806430833E7|       NULL|         NULL|11.118310904120671|14.023970247872565|10.608972968441796|10.448122381208908|16.774698128733267|9.734473429337786| 18.10704605345718| 19.298064746746665|        17.185308220855013|       14.8193931219371|17.498429194520174|18.652808824738113|18.166695007976294|17.324565424168973|15.375967421332938| 16.64721654130104|   14.681117268180554|   14.413999503125499|14.666365224814959| 9.305932299344303|13.98519506514301|15.84037525344252|11.828016250955278|15.782610102712095|12.625285536233548|19.059216849577524|   17.30337226754678|      20.44735158060637|   19.221942651926604|14.453258499129781| 15.711526044712821| 12.474358418291247|          20.54938167453722|       21.439923679212455|      21.048260468990538| 17.75232106189288|  16.906811174245064|  16.53055312969889|     17.071150843263972|  18.059600871737356|10.427285191610823|12.774082648574025|12.774082648574025|12.774082648574025|14.361492110696576|14.098162229234507|14.098162229234507|14.098162229234507|14.361492110696576| 13.4726796824318| 13.4726796824318| 13.4726796824318|13.056764871105674|12.621811718015781|12.621811718015781|12.621811718015781|13.056764871105674|12.546059113362725| 12.64349106228192| 12.64349106228192| 12.64349106228192|12.546059113362725|12.943888137207304| 13.9921558573347| 13.9921558573347| 13.9921558573347|12.943888137207304|15.558149522830847|                NULL|                NULL|                NULL|                NULL|                NULL| 2.274309403445543|0.12372068871233469|\n",
      "|    min|                2|https://sofifa.co...|     A Lan|A. Benjamin Chiam...|             CAM|               40|               40|           1.005E8|            1000.0|               16|               150|               45|               1.0|1. FC Heidenheim ...|Argentina Primera...|                 1|          CAM|                 1|1. FC Heidenheim ...| 1991-06-01|                     2014|                1|     Afghanistan|            974.0|            CAM|                   1|          Left|                 1|                 1|                       1|    High/High|Lean (170-)|       No|              100000|   #Acrobat|  1-on-1 Rush|                21|                14|                20|                22|                14|               27|                 5|                  2|                         4|                      7|                 3|                 2|                 4|                 3|                 5|                 5|                   11|                   11|                11|                20|               10|                2|                13|                10|                12|                 3|                   2|                      3|                    2|                 5|                  5|                 11|                          1|                        2|                       3|                 1|                   1|                  1|                      1|                   1|                12|              14+1|              14+1|              14+1|                13|                14|                14|                14|                13|             14+2|             14+2|             14+2|              15+1|              15+1|              15+1|              15+1|              15+1|              14+1|              15+1|              15+1|              15+1|              14+1|              14+1|             15+2|             15+2|             15+2|              14+1|                10|https://cdn.sofif...|https://cdn.sofif...|https://cdn.sofif...|https://cdn.sofif...|https://cdn.sofif...|              2015|                  0|\n",
      "|    25%|           197527|                NULL|      NULL|                NULL|            NULL|               61|               66|          300000.0|            2000.0|               21|               176|               70|             449.0|                NULL|                NULL|               1.0|         NULL|               8.0|                NULL|       NULL|                   2018.0|               21|            NULL|           1355.0|           NULL|                   6|          NULL|                 3|                 2|                       1|         NULL|       NULL|     NULL|            578000.0|       NULL|         NULL|                62|                42|                50|                56|                36|               59|                38|                 30|                        45|                     53|                30|                48|                34|                31|                43|                54|                   57|                   57|                55|                55|               56|               47|                58|                56|                58|                32|                  44|                     26|                   38|                43|                 39|               50.0|                         25|                       26|                      25|                 8|                   8|                  8|                      8|                   8|                32|              48.0|              48.0|              48.0|              49.0|              48.0|              48.0|              48.0|              49.0|             49.0|             49.0|             49.0|              50.0|              49.0|              49.0|              49.0|              50.0|              48.0|              46.0|              46.0|              46.0|              48.0|              45.0|             42.0|             42.0|             42.0|              45.0|              13.0|                NULL|                NULL|                NULL|                NULL|                NULL|              2017|                  1|\n",
      "|    50%|           217544|                NULL|      NULL|                NULL|            NULL|               66|               71|          700000.0|            4000.0|               25|               181|               75|            1887.0|                NULL|                NULL|               1.0|         NULL|              17.0|                NULL|       NULL|                   2020.0|               45|            NULL|           1387.0|           NULL|                  12|          NULL|                 3|                 2|                       1|         NULL|       NULL|     NULL|           1300000.0|       NULL|         NULL|                69|                54|                58|                63|                56|               66|                54|                 49|                        55|                     62|                44|                61|                48|                42|                56|                63|                   67|                   67|                65|                62|               66|               59|                66|                66|                66|                51|                  58|                     52|                   55|                55|                 50|               59.0|                         50|                       54|                      52|                11|                  11|                 11|                     11|                  11|                41|              57.0|              57.0|              57.0|              59.0|              58.0|              58.0|              58.0|              59.0|             58.0|             58.0|             58.0|              59.0|              57.0|              57.0|              57.0|              59.0|              56.0|              55.0|              55.0|              55.0|              56.0|              55.0|             56.0|             56.0|             56.0|              55.0|              15.0|                NULL|                NULL|                NULL|                NULL|                NULL|              2019|                  1|\n",
      "|    75%|           234492|                NULL|      NULL|                NULL|            NULL|               71|               75|         1800000.0|           10000.0|               28|               186|               80|          110781.0|                NULL|                NULL|               2.0|         NULL|              26.0|                NULL|       NULL|                   2022.0|               56|            NULL|         111466.0|           NULL|                  18|          NULL|                 3|                 3|                       1|         NULL|       NULL|     NULL|           3600000.0|       NULL|         NULL|                76|                63|                64|                69|                65|               72|                64|                 62|                        64|                     68|                57|                68|                62|                57|                64|                69|                   75|                   75|                74|                68|               74|               68|                73|                74|                74|                62|                  69|                     64|                   64|                64|                 61|               67.0|                         63|                       66|                      64|                14|                  14|                 14|                     14|                  14|                47|              64.0|              64.0|              64.0|              65.0|              65.0|              65.0|              65.0|              65.0|             65.0|             65.0|             65.0|              66.0|              63.0|              63.0|              63.0|              66.0|              63.0|              63.0|              63.0|              63.0|              63.0|              63.0|             65.0|             65.0|             65.0|              63.0|              17.0|                NULL|                NULL|                NULL|                NULL|                NULL|              2021|                  1|\n",
      "|    max|           264640|https://sofifa.co...|Ș. Vlădoiu|              李相旭|     ST, RWB, RM|               94|               95|          975000.0|           95000.0|               54|               208|              110|             983.0|       Śląsk Wrocław|Venezuelan Primer...|                 5|          SUB|                99|       Śląsk Wrocław| 2021-09-15|                     2031|              219|        Zimbabwe|         115682.0|            SUB|                  51|         Right|                 5|                 5|                       5|Medium/Medium|     Unique|      Yes|            99900000|#Tactician | Through Ball|                97|                94|                93|                96|                91|               92|                94|                 95|                        95|                     95|                93|                97|                94|                95|                95|                96|                   97|                   97|                96|                96|               98|               96|                97|                97|                98|                94|                  96|                     93|                   96|                96|                 96|                 96|                         94|                       94|                      95|                91|                  92|                 95|                     92|                  94|                68|              92+2|              92+2|              92+2|              93+1|              93+1|              93+1|              93+1|              93+1|               94|               94|               94|              92+2|              89+2|              89+2|              89+2|              92+2|              88-1|              89+2|              89+2|              89+2|              88-1|              88+3|             90+2|             90+2|             90+2|              88+3|              90+2|https://cdn.sofif...|https://cdn.sofif...|https://cdn.sofif...|https://cdn.sofif...|https://cdn.sofif...|              2022|                  1|\n",
      "+-------+-----------------+--------------------+----------+--------------------+----------------+-----------------+-----------------+------------------+------------------+-----------------+------------------+-----------------+------------------+--------------------+--------------------+------------------+-------------+------------------+--------------------+-----------+-------------------------+-----------------+----------------+-----------------+---------------+--------------------+--------------+------------------+------------------+------------------------+-------------+-----------+---------+--------------------+-----------+-------------+------------------+------------------+------------------+------------------+------------------+-----------------+------------------+-------------------+--------------------------+-----------------------+------------------+------------------+------------------+------------------+------------------+------------------+---------------------+---------------------+------------------+------------------+-----------------+-----------------+------------------+------------------+------------------+------------------+--------------------+-----------------------+---------------------+------------------+-------------------+-------------------+---------------------------+-------------------------+------------------------+------------------+--------------------+-------------------+-----------------------+--------------------+------------------+------------------+------------------+------------------+------------------+------------------+------------------+------------------+------------------+-----------------+-----------------+-----------------+------------------+------------------+------------------+------------------+------------------+------------------+------------------+------------------+------------------+------------------+------------------+-----------------+-----------------+-----------------+------------------+------------------+--------------------+--------------------+--------------------+--------------------+--------------------+------------------+-------------------+\n",
      "\n"
     ]
    }
   ],
   "source": [
    "df_union.summary().show()"
   ]
  },
  {
   "cell_type": "code",
   "execution_count": 13,
   "id": "332f098d",
   "metadata": {},
   "outputs": [
    {
     "name": "stdout",
     "output_type": "stream",
     "text": [
      "+----+-----+\n",
      "|year|count|\n",
      "+----+-----+\n",
      "|2015|16155|\n",
      "|2016|15871|\n",
      "|2017|17895|\n",
      "|2018|18271|\n",
      "|2019|18384|\n",
      "|2020|18828|\n",
      "|2021|19289|\n",
      "|2022|19630|\n",
      "+----+-----+\n",
      "\n"
     ]
    }
   ],
   "source": [
    "df_union.groupBy('year').count().show()"
   ]
  },
  {
   "cell_type": "code",
   "execution_count": 14,
   "id": "f71c0429",
   "metadata": {},
   "outputs": [
    {
     "data": {
      "text/plain": [
       "16155"
      ]
     },
     "execution_count": 14,
     "metadata": {},
     "output_type": "execute_result"
    }
   ],
   "source": [
    "# saving the data count for each year\n",
    "# number_of_data[0] --> row(2015,16155)\n",
    "number_of_data=df_union.groupBy('year').count().collect()\n",
    "number_of_data[0][1]"
   ]
  },
  {
   "cell_type": "code",
   "execution_count": 15,
   "id": "660299e8",
   "metadata": {},
   "outputs": [
    {
     "name": "stdout",
     "output_type": "stream",
     "text": [
      "+------+------+\n",
      "|gender| count|\n",
      "+------+------+\n",
      "|     1|142079|\n",
      "|     0|  2244|\n",
      "+------+------+\n",
      "\n"
     ]
    }
   ],
   "source": [
    "df_union.groupBy('gender').count().show()"
   ]
  },
  {
   "cell_type": "code",
   "execution_count": 16,
   "id": "19765d8a",
   "metadata": {},
   "outputs": [
    {
     "name": "stdout",
     "output_type": "stream",
     "text": [
      "+------+------------------+\n",
      "|gender|club_team_id_count|\n",
      "+------+------------------+\n",
      "|     1|            140449|\n",
      "|     0|                 0|\n",
      "+------+------------------+\n",
      "\n"
     ]
    }
   ],
   "source": [
    "df_union.groupBy('gender').agg(count('club_team_id').alias('club_team_id_count')).show()"
   ]
  },
  {
   "cell_type": "code",
   "execution_count": 17,
   "id": "ce0a6d87",
   "metadata": {},
   "outputs": [
    {
     "data": {
      "text/plain": [
       "1017"
      ]
     },
     "execution_count": 17,
     "metadata": {},
     "output_type": "execute_result"
    }
   ],
   "source": [
    "df_union.select('club_team_id').distinct().count()"
   ]
  },
  {
   "cell_type": "code",
   "execution_count": 18,
   "id": "707c7ab5",
   "metadata": {},
   "outputs": [],
   "source": [
    "#overwrite it to PostgresSQL database\n",
    "df_union.write.format(\"jdbc\")\\\n",
    ".mode(\"overwrite\")\\\n",
    ".option(\"url\", db_properties['url'])\\\n",
    ".option(\"dbtable\", db_properties['table'])\\\n",
    ".option(\"user\", db_properties['username'])\\\n",
    ".option(\"password\", db_properties['password'])\\\n",
    ".option(\"Driver\", db_properties['driver'])\\\n",
    ".save()"
   ]
  },
  {
   "cell_type": "markdown",
   "id": "f1d9cd1f",
   "metadata": {},
   "source": [
    "#### D. Data Cleaning"
   ]
  },
  {
   "cell_type": "markdown",
   "id": "d2c84efa",
   "metadata": {},
   "source": [
    "##### D.1 _Dropping columns with high nullValue ratio_"
   ]
  },
  {
   "cell_type": "code",
   "execution_count": 19,
   "id": "e5b71a7c",
   "metadata": {},
   "outputs": [],
   "source": [
    "# read back the df\n",
    "df_uncleaned  = sqlContext.read.format(\"jdbc\")\\\n",
    " .option(\"url\", db_properties['url'])\\\n",
    " .option(\"dbtable\", db_properties['table'])\\\n",
    " .option(\"user\", db_properties['username'])\\\n",
    " .option(\"password\", db_properties['password'])\\\n",
    " .option(\"Driver\", db_properties['driver'])\\\n",
    " .load()"
   ]
  },
  {
   "cell_type": "code",
   "execution_count": 20,
   "id": "f605dadf",
   "metadata": {},
   "outputs": [],
   "source": [
    "missing_values = ['NA', 'NULL', 'NAN', 'NaN', 'na', 'null', 'nan', '']\n",
    "def replace_missing_values(df, missing_values):\n",
    "    for c in df.columns:\n",
    "        df = df.withColumn(c, when(col(c).isin(missing_values), None).otherwise(col(c)))\n",
    "    return df\n",
    "# Transferring all the nullValues into None\n",
    "df_null_transferred = replace_missing_values(df_uncleaned, missing_values)"
   ]
  },
  {
   "cell_type": "code",
   "execution_count": 21,
   "id": "7549e1f2",
   "metadata": {},
   "outputs": [],
   "source": [
    "# Function to calculate the null ratio\n",
    "\n",
    "def show_null_ratio(df):\n",
    "    total_count = df.count()\n",
    "    columns = df.columns\n",
    "    null_count_expr = [\n",
    "        count(when(col(c).isNull() , c)).alias(f'{c}_null_count') for c in columns\n",
    "    ]\n",
    "    \n",
    "    null_counts_df = df.agg(*null_count_expr)\n",
    "    \n",
    "    # Calculate the percentage of null values in each column\n",
    "    for c in columns:\n",
    "        null_counts_df = null_counts_df.withColumn(c, col(f'{c}_null_count') / total_count)\n",
    "        null_counts_df=null_counts_df.drop(f'{c}_null_count')\n",
    "    \n",
    "    null_counts_df.show(vertical=True)\n",
    "    # return the null_ratio df for further use\n",
    "    return null_counts_df"
   ]
  },
  {
   "cell_type": "code",
   "execution_count": 22,
   "id": "95ac9628",
   "metadata": {},
   "outputs": [
    {
     "data": {
      "text/plain": [
       "<bound method DataFrame.printSchema of DataFrame[sofifa_id: int, player_url: string, short_name: string, long_name: string, player_positions: string, overall: int, potential: int, value_eur: string, wage_eur: string, age: int, dob: date, height_cm: int, weight_kg: int, club_team_id: string, club_name: string, league_name: string, league_level: string, club_position: string, club_jersey_number: string, club_loaned_from: string, club_joined: string, club_contract_valid_until: string, nationality_id: int, nationality_name: string, nation_team_id: double, nation_position: string, nation_jersey_number: int, preferred_foot: string, weak_foot: int, skill_moves: int, international_reputation: int, work_rate: string, body_type: string, real_face: string, release_clause_eur: string, player_tags: string, player_traits: string, pace: int, shooting: int, passing: int, dribbling: int, defending: int, physic: int, attacking_crossing: int, attacking_finishing: int, attacking_heading_accuracy: int, attacking_short_passing: int, attacking_volleys: int, skill_dribbling: int, skill_curve: int, skill_fk_accuracy: int, skill_long_passing: int, skill_ball_control: int, movement_acceleration: int, movement_sprint_speed: int, movement_agility: int, movement_reactions: int, movement_balance: int, power_shot_power: int, power_jumping: int, power_stamina: int, power_strength: int, power_long_shots: int, mentality_aggression: int, mentality_interceptions: int, mentality_positioning: int, mentality_vision: int, mentality_penalties: int, mentality_composure: string, defending_marking_awareness: int, defending_standing_tackle: int, defending_sliding_tackle: int, goalkeeping_diving: int, goalkeeping_handling: int, goalkeeping_kicking: int, goalkeeping_positioning: int, goalkeeping_reflexes: int, goalkeeping_speed: int, ls: string, st: string, rs: string, lw: string, lf: string, cf: string, rf: string, rw: string, lam: string, cam: string, ram: string, lm: string, lcm: string, cm: string, rcm: string, rm: string, lwb: string, ldm: string, cdm: string, rdm: string, rwb: string, lb: string, lcb: string, cb: string, rcb: string, rb: string, gk: string, player_face_url: string, club_logo_url: string, club_flag_url: string, nation_logo_url: string, nation_flag_url: string, year: int, gender: int]>"
      ]
     },
     "execution_count": 22,
     "metadata": {},
     "output_type": "execute_result"
    }
   ],
   "source": [
    "df_uncleaned.printSchema"
   ]
  },
  {
   "cell_type": "code",
   "execution_count": 23,
   "id": "9726d1a0",
   "metadata": {},
   "outputs": [
    {
     "name": "stdout",
     "output_type": "stream",
     "text": [
      "-RECORD 0-------------------------------------------\n",
      " sofifa_id                   | 0.0                  \n",
      " player_url                  | 0.0                  \n",
      " short_name                  | 0.0                  \n",
      " long_name                   | 0.0                  \n",
      " player_positions            | 0.0                  \n",
      " overall                     | 0.0                  \n",
      " potential                   | 0.0                  \n",
      " value_eur                   | 0.028373855864969547 \n",
      " wage_eur                    | 0.026468407668909323 \n",
      " age                         | 0.0                  \n",
      " dob                         | 0.0                  \n",
      " height_cm                   | 0.0                  \n",
      " weight_kg                   | 0.0                  \n",
      " club_team_id                | 0.02684256840559024  \n",
      " club_name                   | 0.02684256840559024  \n",
      " league_name                 | 0.02684256840559024  \n",
      " league_level                | 0.029510195880074554 \n",
      " club_position               | 0.02684256840559024  \n",
      " club_jersey_number          | 0.02684256840559024  \n",
      " club_loaned_from            | 0.9424554644789812   \n",
      " club_joined                 | 0.08438710392660906  \n",
      " club_contract_valid_until   | 0.02684256840559024  \n",
      " nationality_id              | 0.0                  \n",
      " nationality_name            | 0.0                  \n",
      " nation_team_id              | 0.9259438897473029   \n",
      " nation_position             | 0.9259438897473029   \n",
      " nation_jersey_number        | 0.9259438897473029   \n",
      " preferred_foot              | 0.0                  \n",
      " weak_foot                   | 0.0                  \n",
      " skill_moves                 | 0.0                  \n",
      " international_reputation    | 0.0                  \n",
      " work_rate                   | 0.0                  \n",
      " body_type                   | 0.0                  \n",
      " real_face                   | 0.0                  \n",
      " release_clause_eur          | 0.4003519882485813   \n",
      " player_tags                 | 0.9190011294111126   \n",
      " player_traits               | 0.5555940494585062   \n",
      " pace                        | 0.111375179285353    \n",
      " shooting                    | 0.111375179285353    \n",
      " passing                     | 0.111375179285353    \n",
      " dribbling                   | 0.111375179285353    \n",
      " defending                   | 0.111375179285353    \n",
      " physic                      | 0.111375179285353    \n",
      " attacking_crossing          | 0.0                  \n",
      " attacking_finishing         | 0.0                  \n",
      " attacking_heading_accuracy  | 0.0                  \n",
      " attacking_short_passing     | 0.0                  \n",
      " attacking_volleys           | 0.0                  \n",
      " skill_dribbling             | 0.0                  \n",
      " skill_curve                 | 0.0                  \n",
      " skill_fk_accuracy           | 0.0                  \n",
      " skill_long_passing          | 0.0                  \n",
      " skill_ball_control          | 0.0                  \n",
      " movement_acceleration       | 0.0                  \n",
      " movement_sprint_speed       | 0.0                  \n",
      " movement_agility            | 0.0                  \n",
      " movement_reactions          | 0.0                  \n",
      " movement_balance            | 0.0                  \n",
      " power_shot_power            | 0.0                  \n",
      " power_jumping               | 0.0                  \n",
      " power_stamina               | 0.0                  \n",
      " power_strength              | 0.0                  \n",
      " power_long_shots            | 0.0                  \n",
      " mentality_aggression        | 0.0                  \n",
      " mentality_interceptions     | 0.0                  \n",
      " mentality_positioning       | 0.0                  \n",
      " mentality_vision            | 0.0                  \n",
      " mentality_penalties         | 0.0                  \n",
      " mentality_composure         | 0.22190503246190835  \n",
      " defending_marking_awareness | 0.0                  \n",
      " defending_standing_tackle   | 0.0                  \n",
      " defending_sliding_tackle    | 0.0                  \n",
      " goalkeeping_diving          | 0.0                  \n",
      " goalkeeping_handling        | 0.0                  \n",
      " goalkeeping_kicking         | 0.0                  \n",
      " goalkeeping_positioning     | 0.0                  \n",
      " goalkeeping_reflexes        | 0.0                  \n",
      " goalkeeping_speed           | 0.888624820714647    \n",
      " ls                          | 0.0                  \n",
      " st                          | 0.0                  \n",
      " rs                          | 0.0                  \n",
      " lw                          | 0.0                  \n",
      " lf                          | 0.0                  \n",
      " cf                          | 0.0                  \n",
      " rf                          | 0.0                  \n",
      " rw                          | 0.0                  \n",
      " lam                         | 0.0                  \n",
      " cam                         | 0.0                  \n",
      " ram                         | 0.0                  \n",
      " lm                          | 0.0                  \n",
      " lcm                         | 0.0                  \n",
      " cm                          | 0.0                  \n",
      " rcm                         | 0.0                  \n",
      " rm                          | 0.0                  \n",
      " lwb                         | 0.0                  \n",
      " ldm                         | 0.0                  \n",
      " cdm                         | 0.0                  \n",
      " rdm                         | 0.0                  \n",
      " rwb                         | 0.0                  \n",
      " lb                          | 0.0                  \n",
      " lcb                         | 0.0                  \n",
      " cb                          | 0.0                  \n",
      " rcb                         | 0.0                  \n",
      " rb                          | 0.0                  \n",
      " gk                          | 0.0                  \n",
      " player_face_url             | 0.0                  \n",
      " club_logo_url               | 0.02684256840559024  \n",
      " club_flag_url               | 0.02684256840559024  \n",
      " nation_logo_url             | 0.9259438897473029   \n",
      " nation_flag_url             | 0.0                  \n",
      " year                        | 0.0                  \n",
      " gender                      | 0.0                  \n",
      "\n"
     ]
    }
   ],
   "source": [
    "# A table showing the null ratio of each columns vertically\n",
    "null_ratio_df=show_null_ratio(df_null_transferred)"
   ]
  },
  {
   "cell_type": "code",
   "execution_count": 24,
   "id": "caab1d65",
   "metadata": {},
   "outputs": [
    {
     "name": "stdout",
     "output_type": "stream",
     "text": [
      "['club_loaned_from', 'nation_team_id', 'nation_position', 'nation_jersey_number', 'player_tags', 'player_traits', 'goalkeeping_speed', 'nation_logo_url']\n"
     ]
    }
   ],
   "source": [
    "#getting a list of ratios\n",
    "ratio_row = null_ratio_df.collect()[0]\n",
    "col_toomuchnull = [null_ratio_df.columns[i] for i in range(len(ratio_row)) if ratio_row[i] > 0.5]\n",
    "print(col_toomuchnull)\n",
    "# now we know the columns with nullValue ratio over 50%."
   ]
  },
  {
   "cell_type": "code",
   "execution_count": 25,
   "id": "aadaacce",
   "metadata": {},
   "outputs": [],
   "source": [
    "# dropping the columns with high nullValue ratio\n",
    "df_afterdrop=df_null_transferred\n",
    "for c in col_toomuchnull:\n",
    "    df_afterdrop=df_afterdrop.drop(c)"
   ]
  },
  {
   "cell_type": "markdown",
   "id": "1e752325",
   "metadata": {},
   "source": [
    "Besides, all of the url colums are useless"
   ]
  },
  {
   "cell_type": "code",
   "execution_count": 26,
   "id": "440b8437",
   "metadata": {},
   "outputs": [],
   "source": [
    "columns_to_drop = [col_name for col_name in df_afterdrop.columns if 'url' in col_name]\n",
    "\n",
    "# drop the columns that contain url\n",
    "df_afterdrop = df_afterdrop.drop(*columns_to_drop)"
   ]
  },
  {
   "cell_type": "markdown",
   "id": "2fe505f4",
   "metadata": {},
   "source": [
    "##### D.2 _Checking the dtypes_"
   ]
  },
  {
   "cell_type": "code",
   "execution_count": 27,
   "id": "607072d3",
   "metadata": {},
   "outputs": [
    {
     "name": "stdout",
     "output_type": "stream",
     "text": [
      "-RECORD 0-------------------------------------------\n",
      " sofifa_id                   | 0.0                  \n",
      " short_name                  | 0.0                  \n",
      " long_name                   | 0.0                  \n",
      " player_positions            | 0.0                  \n",
      " overall                     | 0.0                  \n",
      " potential                   | 0.0                  \n",
      " value_eur                   | 0.028373855864969547 \n",
      " wage_eur                    | 0.026468407668909323 \n",
      " age                         | 0.0                  \n",
      " dob                         | 0.0                  \n",
      " height_cm                   | 0.0                  \n",
      " weight_kg                   | 0.0                  \n",
      " club_team_id                | 0.02684256840559024  \n",
      " club_name                   | 0.02684256840559024  \n",
      " league_name                 | 0.02684256840559024  \n",
      " league_level                | 0.029510195880074554 \n",
      " club_position               | 0.02684256840559024  \n",
      " club_jersey_number          | 0.02684256840559024  \n",
      " club_joined                 | 0.08438710392660906  \n",
      " club_contract_valid_until   | 0.02684256840559024  \n",
      " nationality_id              | 0.0                  \n",
      " nationality_name            | 0.0                  \n",
      " preferred_foot              | 0.0                  \n",
      " weak_foot                   | 0.0                  \n",
      " skill_moves                 | 0.0                  \n",
      " international_reputation    | 0.0                  \n",
      " work_rate                   | 0.0                  \n",
      " body_type                   | 0.0                  \n",
      " real_face                   | 0.0                  \n",
      " release_clause_eur          | 0.4003519882485813   \n",
      " pace                        | 0.111375179285353    \n",
      " shooting                    | 0.111375179285353    \n",
      " passing                     | 0.111375179285353    \n",
      " dribbling                   | 0.111375179285353    \n",
      " defending                   | 0.111375179285353    \n",
      " physic                      | 0.111375179285353    \n",
      " attacking_crossing          | 0.0                  \n",
      " attacking_finishing         | 0.0                  \n",
      " attacking_heading_accuracy  | 0.0                  \n",
      " attacking_short_passing     | 0.0                  \n",
      " attacking_volleys           | 0.0                  \n",
      " skill_dribbling             | 0.0                  \n",
      " skill_curve                 | 0.0                  \n",
      " skill_fk_accuracy           | 0.0                  \n",
      " skill_long_passing          | 0.0                  \n",
      " skill_ball_control          | 0.0                  \n",
      " movement_acceleration       | 0.0                  \n",
      " movement_sprint_speed       | 0.0                  \n",
      " movement_agility            | 0.0                  \n",
      " movement_reactions          | 0.0                  \n",
      " movement_balance            | 0.0                  \n",
      " power_shot_power            | 0.0                  \n",
      " power_jumping               | 0.0                  \n",
      " power_stamina               | 0.0                  \n",
      " power_strength              | 0.0                  \n",
      " power_long_shots            | 0.0                  \n",
      " mentality_aggression        | 0.0                  \n",
      " mentality_interceptions     | 0.0                  \n",
      " mentality_positioning       | 0.0                  \n",
      " mentality_vision            | 0.0                  \n",
      " mentality_penalties         | 0.0                  \n",
      " mentality_composure         | 0.22190503246190835  \n",
      " defending_marking_awareness | 0.0                  \n",
      " defending_standing_tackle   | 0.0                  \n",
      " defending_sliding_tackle    | 0.0                  \n",
      " goalkeeping_diving          | 0.0                  \n",
      " goalkeeping_handling        | 0.0                  \n",
      " goalkeeping_kicking         | 0.0                  \n",
      " goalkeeping_positioning     | 0.0                  \n",
      " goalkeeping_reflexes        | 0.0                  \n",
      " ls                          | 0.0                  \n",
      " st                          | 0.0                  \n",
      " rs                          | 0.0                  \n",
      " lw                          | 0.0                  \n",
      " lf                          | 0.0                  \n",
      " cf                          | 0.0                  \n",
      " rf                          | 0.0                  \n",
      " rw                          | 0.0                  \n",
      " lam                         | 0.0                  \n",
      " cam                         | 0.0                  \n",
      " ram                         | 0.0                  \n",
      " lm                          | 0.0                  \n",
      " lcm                         | 0.0                  \n",
      " cm                          | 0.0                  \n",
      " rcm                         | 0.0                  \n",
      " rm                          | 0.0                  \n",
      " lwb                         | 0.0                  \n",
      " ldm                         | 0.0                  \n",
      " cdm                         | 0.0                  \n",
      " rdm                         | 0.0                  \n",
      " rwb                         | 0.0                  \n",
      " lb                          | 0.0                  \n",
      " lcb                         | 0.0                  \n",
      " cb                          | 0.0                  \n",
      " rcb                         | 0.0                  \n",
      " rb                          | 0.0                  \n",
      " gk                          | 0.0                  \n",
      " year                        | 0.0                  \n",
      " gender                      | 0.0                  \n",
      "\n"
     ]
    }
   ],
   "source": [
    "# Getting a list of the rest null cols\n",
    "col_ratio = show_null_ratio(df_afterdrop).collect()[0]"
   ]
  },
  {
   "cell_type": "code",
   "execution_count": 28,
   "id": "a4266655",
   "metadata": {},
   "outputs": [
    {
     "name": "stdout",
     "output_type": "stream",
     "text": [
      "['value_eur', 'wage_eur', 'club_team_id', 'club_name', 'league_name', 'league_level', 'club_position', 'club_jersey_number', 'club_joined', 'club_contract_valid_until', 'release_clause_eur', 'pace', 'shooting', 'passing', 'dribbling', 'defending', 'physic', 'mentality_composure']\n"
     ]
    }
   ],
   "source": [
    "col_have_null = [df_afterdrop.columns[i] for i in range(len(col_ratio)) if col_ratio[i] > 0]\n",
    "print(col_have_null)\n",
    "# now we know the columns that have null value."
   ]
  },
  {
   "cell_type": "code",
   "execution_count": 29,
   "id": "8b9eba4e",
   "metadata": {},
   "outputs": [
    {
     "name": "stdout",
     "output_type": "stream",
     "text": [
      "+---------+--------+------------+----------+------------------+------------+-------------+------------------+-----------+-------------------------+------------------+----+--------+-------+---------+---------+------+-------------------+\n",
      "|value_eur|wage_eur|club_team_id| club_name|       league_name|league_level|club_position|club_jersey_number|club_joined|club_contract_valid_until|release_clause_eur|pace|shooting|passing|dribbling|defending|physic|mentality_composure|\n",
      "+---------+--------+------------+----------+------------------+------------+-------------+------------------+-----------+-------------------------+------------------+----+--------+-------+---------+---------+------+-------------------+\n",
      "|  45000.0|  2000.0|       361.0| Stevenage|English League Two|           4|          RES|                31| 2016-08-12|                     2019|             98000|  65|      49|     37|       47|       15|    45|                 43|\n",
      "|  60000.0|  1000.0|      1446.0|AC Horsens|  Danish Superliga|           1|          SUB|                24| 2016-08-13|                     2020|            113000|  58|      27|     37|       47|       46|    50|                 38|\n",
      "|  60000.0|   500.0|    111993.0|Cittadella|   Italian Serie B|           2|          SUB|                26| 2016-07-01|                     2019|            131000|  51|      49|     48|       61|       17|    40|                 42|\n",
      "+---------+--------+------------+----------+------------------+------------+-------------+------------------+-----------+-------------------------+------------------+----+--------+-------+---------+---------+------+-------------------+\n",
      "only showing top 3 rows\n",
      "\n"
     ]
    }
   ],
   "source": [
    "df_afterdrop.select(col_have_null).show(3)"
   ]
  },
  {
   "cell_type": "code",
   "execution_count": 30,
   "id": "a86e8e2d",
   "metadata": {},
   "outputs": [
    {
     "name": "stdout",
     "output_type": "stream",
     "text": [
      "+-------------------+-----+\n",
      "|mentality_composure|count|\n",
      "+-------------------+-----+\n",
      "|NULL               |32026|\n",
      "|60                 |4248 |\n",
      "|65                 |4160 |\n",
      "|58                 |4038 |\n",
      "|55                 |3996 |\n",
      "|62                 |3966 |\n",
      "|64                 |3705 |\n",
      "|59                 |3642 |\n",
      "|63                 |3498 |\n",
      "|68                 |3381 |\n",
      "|66                 |3348 |\n",
      "|57                 |3323 |\n",
      "|56                 |3255 |\n",
      "|67                 |3237 |\n",
      "|61                 |3165 |\n",
      "|70                 |3017 |\n",
      "|52                 |2878 |\n",
      "|54                 |2756 |\n",
      "|50                 |2749 |\n",
      "|69                 |2648 |\n",
      "+-------------------+-----+\n",
      "only showing top 20 rows\n",
      "\n"
     ]
    }
   ],
   "source": [
    "# checking the true dtype (because there's a lot of NULL in this column, I'm not sure if it's a int)\n",
    "df_afterdrop.groupby('mentality_composure').count().orderBy(col('count').desc()).show(truncate=False)"
   ]
  },
  {
   "cell_type": "code",
   "execution_count": 31,
   "id": "801f7734",
   "metadata": {},
   "outputs": [
    {
     "data": {
      "text/plain": [
       "[('value_eur', 'string'),\n",
       " ('wage_eur', 'string'),\n",
       " ('club_team_id', 'string'),\n",
       " ('club_name', 'string'),\n",
       " ('league_name', 'string'),\n",
       " ('league_level', 'string'),\n",
       " ('club_position', 'string'),\n",
       " ('club_jersey_number', 'string'),\n",
       " ('club_joined', 'string'),\n",
       " ('club_contract_valid_until', 'string'),\n",
       " ('release_clause_eur', 'string'),\n",
       " ('pace', 'int'),\n",
       " ('shooting', 'int'),\n",
       " ('passing', 'int'),\n",
       " ('dribbling', 'int'),\n",
       " ('defending', 'int'),\n",
       " ('physic', 'int'),\n",
       " ('mentality_composure', 'string')]"
      ]
     },
     "execution_count": 31,
     "metadata": {},
     "output_type": "execute_result"
    }
   ],
   "source": [
    "df_afterdrop.select(col_have_null).dtypes"
   ]
  },
  {
   "cell_type": "markdown",
   "id": "abe9e064",
   "metadata": {},
   "source": [
    "_Some of the columns that have null value has a wrong dtype_"
   ]
  },
  {
   "cell_type": "code",
   "execution_count": 32,
   "id": "d7fb3a72",
   "metadata": {},
   "outputs": [],
   "source": [
    "col_int=['value_eur','wage_eur','club_team_id','league_level','club_jersey_number','club_contract_valid_until','release_clause_eur','pace','shooting','passing','dribbling','defending','physic','mentality_composure']"
   ]
  },
  {
   "cell_type": "code",
   "execution_count": 33,
   "id": "af63648e",
   "metadata": {},
   "outputs": [],
   "source": [
    "# Transferring the data type\n",
    "def cast_columns(df, columns_to_cast):\n",
    "    for col_name in columns_to_cast:\n",
    "        df = df.withColumn(col_name, df[col_name].cast(IntegerType()))\n",
    "    return df\n",
    "\n",
    "df_transferType = cast_columns(df_afterdrop, col_int)"
   ]
  },
  {
   "cell_type": "code",
   "execution_count": 34,
   "id": "ee4d7d35",
   "metadata": {},
   "outputs": [
    {
     "name": "stdout",
     "output_type": "stream",
     "text": [
      "+-------+-----------------+----------+--------------------+----------------+-----------------+-----------------+------------------+------------------+-----------------+------------------+-----------------+------------------+--------------------+--------------------+------------------+-------------+------------------+-----------+-------------------------+-----------------+----------------+--------------+------------------+------------------+------------------------+-------------+-----------+---------+-------------------+------------------+------------------+------------------+------------------+------------------+-----------------+------------------+-------------------+--------------------------+-----------------------+-----------------+------------------+------------------+------------------+------------------+------------------+---------------------+---------------------+------------------+------------------+------------------+------------------+-----------------+------------------+------------------+-----------------+--------------------+-----------------------+---------------------+-----------------+-------------------+-------------------+---------------------------+-------------------------+------------------------+------------------+--------------------+-------------------+-----------------------+--------------------+------------------+------------------+------------------+------------------+------------------+------------------+------------------+------------------+-----------------+-----------------+-----------------+------------------+------------------+------------------+------------------+------------------+------------------+------------------+------------------+------------------+------------------+-----------------+------------------+------------------+------------------+-----------------+------------------+------------------+-------------------+\n",
      "|summary|        sofifa_id|short_name|           long_name|player_positions|          overall|        potential|         value_eur|          wage_eur|              age|         height_cm|        weight_kg|      club_team_id|           club_name|         league_name|      league_level|club_position|club_jersey_number|club_joined|club_contract_valid_until|   nationality_id|nationality_name|preferred_foot|         weak_foot|       skill_moves|international_reputation|    work_rate|  body_type|real_face| release_clause_eur|              pace|          shooting|           passing|         dribbling|         defending|           physic|attacking_crossing|attacking_finishing|attacking_heading_accuracy|attacking_short_passing|attacking_volleys|   skill_dribbling|       skill_curve| skill_fk_accuracy|skill_long_passing|skill_ball_control|movement_acceleration|movement_sprint_speed|  movement_agility|movement_reactions|  movement_balance|  power_shot_power|    power_jumping|     power_stamina|    power_strength| power_long_shots|mentality_aggression|mentality_interceptions|mentality_positioning| mentality_vision|mentality_penalties|mentality_composure|defending_marking_awareness|defending_standing_tackle|defending_sliding_tackle|goalkeeping_diving|goalkeeping_handling|goalkeeping_kicking|goalkeeping_positioning|goalkeeping_reflexes|                ls|                st|                rs|                lw|                lf|                cf|                rf|                rw|              lam|              cam|              ram|                lm|               lcm|                cm|               rcm|                rm|               lwb|               ldm|               cdm|               rdm|               rwb|               lb|               lcb|                cb|               rcb|               rb|                gk|              year|             gender|\n",
      "+-------+-----------------+----------+--------------------+----------------+-----------------+-----------------+------------------+------------------+-----------------+------------------+-----------------+------------------+--------------------+--------------------+------------------+-------------+------------------+-----------+-------------------------+-----------------+----------------+--------------+------------------+------------------+------------------------+-------------+-----------+---------+-------------------+------------------+------------------+------------------+------------------+------------------+-----------------+------------------+-------------------+--------------------------+-----------------------+-----------------+------------------+------------------+------------------+------------------+------------------+---------------------+---------------------+------------------+------------------+------------------+------------------+-----------------+------------------+------------------+-----------------+--------------------+-----------------------+---------------------+-----------------+-------------------+-------------------+---------------------------+-------------------------+------------------------+------------------+--------------------+-------------------+-----------------------+--------------------+------------------+------------------+------------------+------------------+------------------+------------------+------------------+------------------+-----------------+-----------------+-----------------+------------------+------------------+------------------+------------------+------------------+------------------+------------------+------------------+------------------+------------------+-----------------+------------------+------------------+------------------+-----------------+------------------+------------------+-------------------+\n",
      "|  count|           144323|    144323|              144323|          144323|           144323|           144323|            133588|            140503|           144323|            144323|           144323|            140449|              140449|              140449|            140064|       140449|            140449|     132144|                   140449|           144323|          144323|        144323|            144323|            144323|                  144323|       144323|     144323|   144323|              86543|            128249|            128249|            128249|            128249|            128249|           128249|            144323|             144323|                    144323|                 144323|           144323|            144323|            144323|            144323|            144323|            144323|               144323|               144323|            144323|            144323|            144323|            144323|           144323|            144323|            144323|           144323|              144323|                 144323|               144323|           144323|             144323|             112297|                     144323|                   144323|                  144323|            144323|              144323|             144323|                 144323|              144323|            144323|            144323|            144323|            144323|            144323|            144323|            144323|            144323|           144323|           144323|           144323|            144323|            144323|            144323|            144323|            144323|            144323|            144323|            144323|            144323|            144323|           144323|            144323|            144323|            144323|           144323|            144323|            144323|             144323|\n",
      "|   mean|211967.0790864935|      NULL|                NULL|            NULL|65.87099076377292|70.86494183186325| 1312132.736473336|11110.377358490567|25.13769808000111|181.01369844030404|75.03270441994692|44486.178762397736|                NULL|                NULL|1.3785840758510395|         NULL| 19.99129933285392|       NULL|       2019.9270838525017|55.69959050186041|            NULL|          NULL| 2.941007323849975|2.3306818732980883|      1.1229395176098058|         NULL|       NULL|     NULL|  4686886.264631455|  68.0648192188633| 52.31459114690953| 57.01834712161499| 62.14579450911898| 51.16110067135026|64.88116866408315|49.820915585180465|  45.66066392744053|         52.42257990756844|     58.416780416149884|43.17719975333107| 55.25433229630759|47.343181613464246|43.166127367086325| 52.61782252309057| 58.32273442209488|    64.77217075587397|    64.95886310567269| 63.40764119371133|61.800648545276914|   64.035836283891| 56.66906175730826|65.00749707253868| 63.22737193655897| 65.18889574080362|47.32516646688331|  55.767382884224965|      46.67863750060628|    50.05596474574392|53.03182444932547|   48.8759934314004|  57.93766529827155|          45.75312320281591|        47.69115802748003|       45.72127796678284|16.578265418540358|  16.326905621418625| 16.187385240051828|     16.334215613588963|  16.690513639544633| 54.84716442753537| 54.84716442753537| 54.84716442753537|55.218112826062196| 54.97691415149071| 54.97691415149071| 54.97691415149071|55.218112826062196|55.77282390633889|55.77282390633889|55.77282390633889| 56.40396178616122|  54.7294420861128|  54.7294420861128|  54.7294420861128| 56.40396178616122| 54.07243479330709|53.645390070921984|53.645390070921984|53.645390070921984| 54.07243479330709|52.94140736285651| 53.36732524142819| 53.36732524142819| 53.36732524142819|52.94140736285651| 19.99489958559133|2018.6535687312487| 0.9844515427201486|\n",
      "| stddev|34700.15102127668|      NULL|                NULL|            NULL|7.165768763091311|6.355224353461266|1737061.6428102737|22248.691798595213|4.651591211616683| 6.900499819409965|7.184165890463841| 53281.05519827299|                NULL|                NULL|0.7484169613886569|         NULL|16.662096242167404|       NULL|       2.4605717809516334| 47.9886570825618|            NULL|          NULL|0.6622066105582056| 0.753631597888452|     0.41930061107309125|         NULL|       NULL|     NULL|1.169419580643098E7|11.118310904120655|14.023970247872688|10.608972968441744|10.448122381208861|16.774698128733398|9.734473429337852|18.107046053457278|  19.29806474674688|        17.185308220855134|     14.819393121936981|17.49842919452016|18.652808824738276| 18.16669500797637|17.324565424169045|15.375967421332875| 16.64721654130092|   14.681117268180554|   14.413999503125572|14.666365224814893| 9.305932299344322|13.985195065143103|15.840375253442383|11.82801625095521|15.782610102712123|12.625285536233536|19.05921684957743|   17.30337226754678|      20.44735158060635|   19.221942651926575|14.45325849912983| 15.711526044712883| 12.474358418291281|         20.549381674537326|       21.439923679212566|       21.04826046899052|17.752321061892943|  16.906811174245135|  16.53055312969895|      17.07115084326401|  18.059600871737345|12.774082648573993|12.774082648573993|12.774082648573993|14.361492110696563|14.098162229234548|14.098162229234548|14.098162229234548|14.361492110696563|13.47267968243177|13.47267968243177|13.47267968243177|13.056764871105644|12.621811718015769|12.621811718015769|12.621811718015769|13.056764871105644|12.546059113362718|12.643491062281907|12.643491062281907|12.643491062281907|12.546059113362718|12.94388813720729|13.992155857334682|13.992155857334682|13.992155857334682|12.94388813720729|15.558149522830771| 2.274309403445572|0.12372068871233585|\n",
      "|    min|                2|     A Lan|A. Benjamin Chiam...|             CAM|               40|               40|              1000|               500|               16|               150|               45|                 1|1. FC Heidenheim ...|Argentina Primera...|                 1|          CAM|                 1| 1991-06-01|                     2014|                1|     Afghanistan|          Left|                 1|                 1|                       1|    High/High|Lean (170-)|       No|               9000|                21|                14|                20|                22|                14|               27|                 5|                  2|                         4|                      7|                3|                 2|                 4|                 3|                 5|                 5|                   11|                   11|                11|                20|                10|                 2|               13|                10|                12|                3|                   2|                      3|                    2|                5|                  5|                  3|                          1|                        2|                       3|                 1|                   1|                  1|                      1|                   1|              14+1|              14+1|              14+1|                13|                14|                14|                14|                13|             14+2|             14+2|             14+2|              15+1|              15+1|              15+1|              15+1|              15+1|              14+1|              15+1|              15+1|              15+1|              14+1|             14+1|              15+2|              15+2|              15+2|             14+1|                10|              2015|                  0|\n",
      "|    max|           264640|Ș. Vlădoiu|              李相旭|     ST, RWB, RM|               94|               95|           9500000|            575000|               54|               208|              110|            115820|       Śląsk Wrocław|Venezuelan Primer...|                 5|          SUB|                99| 2021-09-15|                     2031|              219|        Zimbabwe|         Right|                 5|                 5|                       5|Medium/Medium|     Unique|      Yes|          373500000|                97|                94|                93|                96|                91|               92|                94|                 95|                        95|                     95|               93|                97|                94|                95|                95|                96|                   97|                   97|                96|                96|                98|                96|               97|                97|                98|               94|                  96|                     93|                   96|               96|                 96|                 96|                         94|                       94|                      95|                91|                  92|                 95|                     92|                  94|              92+2|              92+2|              92+2|              93+1|              93+1|              93+1|              93+1|              93+1|               94|               94|               94|              92+2|              89+2|              89+2|              89+2|              92+2|              88-1|              89+2|              89+2|              89+2|              88-1|             88+3|              90+2|              90+2|              90+2|             88+3|              90+2|              2022|                  1|\n",
      "+-------+-----------------+----------+--------------------+----------------+-----------------+-----------------+------------------+------------------+-----------------+------------------+-----------------+------------------+--------------------+--------------------+------------------+-------------+------------------+-----------+-------------------------+-----------------+----------------+--------------+------------------+------------------+------------------------+-------------+-----------+---------+-------------------+------------------+------------------+------------------+------------------+------------------+-----------------+------------------+-------------------+--------------------------+-----------------------+-----------------+------------------+------------------+------------------+------------------+------------------+---------------------+---------------------+------------------+------------------+------------------+------------------+-----------------+------------------+------------------+-----------------+--------------------+-----------------------+---------------------+-----------------+-------------------+-------------------+---------------------------+-------------------------+------------------------+------------------+--------------------+-------------------+-----------------------+--------------------+------------------+------------------+------------------+------------------+------------------+------------------+------------------+------------------+-----------------+-----------------+-----------------+------------------+------------------+------------------+------------------+------------------+------------------+------------------+------------------+------------------+------------------+-----------------+------------------+------------------+------------------+-----------------+------------------+------------------+-------------------+\n",
      "\n"
     ]
    }
   ],
   "source": [
    "df_transferType.describe().show()"
   ]
  },
  {
   "cell_type": "markdown",
   "id": "34a10267",
   "metadata": {},
   "source": [
    "Except the columns that has nullValue, some other columns are inferred incorrectly"
   ]
  },
  {
   "cell_type": "code",
   "execution_count": 35,
   "id": "9ae2eb8d",
   "metadata": {},
   "outputs": [
    {
     "name": "stdout",
     "output_type": "stream",
     "text": [
      "+-------------+------------+--------------+----------------+-------------+-------------+-------------+-------------+-------------+----------+-------------+-------------+-------------+----------------+---------------------------+-------------+-------------+------------------+------------+-------------------------+--------------+-------------------+--------------+-------------+-------------+------------------------+-------------+----------------+------------+------------------+-------------+-------------+-------------+-------------+-------------+-------------+------------------+-------------------+--------------------------+-----------------------+-----------------+---------------+-------------+-----------------+------------------+------------------+---------------------+---------------------+----------------+------------------+----------------+----------------+-------------+-------------+--------------+----------------+--------------------+-----------------------+---------------------+----------------+-------------------+-------------------+---------------------------+-------------------------+------------------------+------------------+--------------------+-------------------+-----------------------+--------------------+------------+------------+------------+------------+------------+------------+------------+------------+------------+------------+------------+------------+------------+------------+------------+------------+------------+------------+------------+------------+------------+------------+------------+------------+------------+------------+------------+-------------+-------------+\n",
      "|sofifa_id    |short_name  |long_name     |player_positions|overall      |potential    |value_eur    |wage_eur     |age          |dob       |height_cm    |weight_kg    |club_team_id |club_name       |league_name                |league_level |club_position|club_jersey_number|club_joined |club_contract_valid_until|nationality_id|nationality_name   |preferred_foot|weak_foot    |skill_moves  |international_reputation|work_rate    |body_type       |real_face   |release_clause_eur|pace         |shooting     |passing      |dribbling    |defending    |physic       |attacking_crossing|attacking_finishing|attacking_heading_accuracy|attacking_short_passing|attacking_volleys|skill_dribbling|skill_curve  |skill_fk_accuracy|skill_long_passing|skill_ball_control|movement_acceleration|movement_sprint_speed|movement_agility|movement_reactions|movement_balance|power_shot_power|power_jumping|power_stamina|power_strength|power_long_shots|mentality_aggression|mentality_interceptions|mentality_positioning|mentality_vision|mentality_penalties|mentality_composure|defending_marking_awareness|defending_standing_tackle|defending_sliding_tackle|goalkeeping_diving|goalkeeping_handling|goalkeeping_kicking|goalkeeping_positioning|goalkeeping_reflexes|ls          |st          |rs          |lw          |lf          |cf          |rf          |rw          |lam         |cam         |ram         |lm          |lcm         |cm          |rcm         |rm          |lwb         |ldm         |cdm         |rdm         |rwb         |lb          |lcb         |cb          |rcb         |rb          |gk          |year         |gender       |\n",
      "+-------------+------------+--------------+----------------+-------------+-------------+-------------+-------------+-------------+----------+-------------+-------------+-------------+----------------+---------------------------+-------------+-------------+------------------+------------+-------------------------+--------------+-------------------+--------------+-------------+-------------+------------------------+-------------+----------------+------------+------------------+-------------+-------------+-------------+-------------+-------------+-------------+------------------+-------------------+--------------------------+-----------------------+-----------------+---------------+-------------+-----------------+------------------+------------------+---------------------+---------------------+----------------+------------------+----------------+----------------+-------------+-------------+--------------+----------------+--------------------+-----------------------+---------------------+----------------+-------------------+-------------------+---------------------------+-------------------------+------------------------+------------------+--------------------+-------------------+-----------------------+--------------------+------------+------------+------------+------------+------------+------------+------------+------------+------------+------------+------------+------------+------------+------------+------------+------------+------------+------------+------------+------------+------------+------------+------------+------------+------------+------------+------------+-------------+-------------+\n",
      "|IntegerType()|StringType()|StringType()  |StringType()    |IntegerType()|IntegerType()|IntegerType()|IntegerType()|IntegerType()|DateType()|IntegerType()|IntegerType()|IntegerType()|StringType()    |StringType()               |IntegerType()|StringType() |IntegerType()     |StringType()|IntegerType()            |IntegerType() |StringType()       |StringType()  |IntegerType()|IntegerType()|IntegerType()           |StringType() |StringType()    |StringType()|IntegerType()     |IntegerType()|IntegerType()|IntegerType()|IntegerType()|IntegerType()|IntegerType()|IntegerType()     |IntegerType()      |IntegerType()             |IntegerType()          |IntegerType()    |IntegerType()  |IntegerType()|IntegerType()    |IntegerType()     |IntegerType()     |IntegerType()        |IntegerType()        |IntegerType()   |IntegerType()     |IntegerType()   |IntegerType()   |IntegerType()|IntegerType()|IntegerType() |IntegerType()   |IntegerType()       |IntegerType()          |IntegerType()        |IntegerType()   |IntegerType()      |IntegerType()      |IntegerType()              |IntegerType()            |IntegerType()           |IntegerType()     |IntegerType()       |IntegerType()      |IntegerType()          |IntegerType()       |StringType()|StringType()|StringType()|StringType()|StringType()|StringType()|StringType()|StringType()|StringType()|StringType()|StringType()|StringType()|StringType()|StringType()|StringType()|StringType()|StringType()|StringType()|StringType()|StringType()|StringType()|StringType()|StringType()|StringType()|StringType()|StringType()|StringType()|IntegerType()|IntegerType()|\n",
      "|235766       |J. Gray     |Jamie Gray    |ST              |50           |60           |45000        |2000         |19           |1998-04-13|175          |70           |361          |Stevenage       |English League Two         |4            |RES          |31                |2016-08-12  |2019                     |25            |Republic of Ireland|Right         |2            |3            |1                       |Medium/Low   |Normal (170-185)|No          |98000             |65           |49           |37           |47           |15           |45           |30                |55                 |46                        |41                     |36               |44             |35           |28               |29                |40                |69                   |61                   |70              |51                |64              |42              |71           |50           |44            |42              |34                  |10                     |53                   |46              |60                 |43                 |14                         |10                       |11                      |15                |13                  |11                 |9                      |8                   |49+1        |49+1        |49+1        |48          |48          |48          |48          |48          |47+1        |47+1        |47+1        |46+1        |39+1        |39+1        |39+1        |46+1        |32+1        |29+1        |29+1        |29+1        |32+1        |31+1        |27+1        |27+1        |27+1        |31+1        |16+1        |2018         |1            |\n",
      "|235822       |M. Holm     |Martin Holm   |RB              |50           |64           |60000        |1000         |19           |1998-05-27|171          |62           |1446         |AC Horsens      |Danish Superliga           |1            |SUB          |24                |2016-08-13  |2020                     |13            |Denmark            |Right         |3            |2            |1                       |Medium/Medium|Lean (170-185)  |No          |113000            |58           |27           |37           |47           |46           |50           |44                |29                 |37                        |40                     |20               |46             |33           |25               |30                |38                |61                   |56                   |76              |52                |45              |23              |80           |56           |43            |24              |51                  |48                     |41                   |35              |36                 |38                 |43                         |48                       |55                      |7                 |9                   |11                 |8                      |8                   |38+1        |38+1        |38+1        |43          |40          |40          |40          |43          |41+1        |41+1        |41+1        |44+1        |40+1        |40+1        |40+1        |44+1        |48+1        |44+1        |44+1        |44+1        |48+1        |49+1        |47+1        |47+1        |47+1        |49+1        |13+1        |2018         |1            |\n",
      "|235865       |G. Fasolo   |Giulio Fasolo |ST              |50           |65           |60000        |500          |18           |1998-10-14|168          |65           |111993       |Cittadella      |Italian Serie B            |2            |SUB          |26                |2016-07-01  |2019                     |27            |Italy              |Right         |3            |2            |1                       |High/Low     |Normal (170-)   |No          |131000            |51           |49           |48           |61           |17           |40           |45                |50                 |39                        |50                     |55               |63             |54           |31               |44                |53                |63                   |42                   |70              |52                |75              |49              |50           |60           |29            |48              |40                  |15                     |50                   |51              |40                 |42                 |15                         |15                       |13                      |9                 |8                   |9                  |9                      |11                  |49+1        |49+1        |49+1        |53          |52          |52          |52          |53          |53+1        |53+1        |53+1        |53+1        |48+1        |48+1        |48+1        |53+1        |38+1        |35+1        |35+1        |35+1        |38+1        |34+1        |27+1        |27+1        |27+1        |34+1        |14+1        |2018         |1            |\n",
      "|235993       |R. Fielding |Reece Fielding|CB              |50           |73           |60000        |1000         |18           |1998-09-23|187          |76           |142          |Doncaster Rovers|English League One         |3            |RES          |29                |2015-05-28  |2020                     |14            |England            |Right         |3            |2            |1                       |Medium/Medium|Lean (185+)     |No          |165000            |58           |34           |47           |48           |44           |57           |34                |28                 |46                        |55                     |32               |46             |35           |34               |55                |44                |54                   |61                   |57              |52                |65              |47              |63           |49           |61            |36              |55                  |46                     |30                   |46              |38                 |43                 |42                         |45                       |45                      |11                |6                   |5                  |7                      |8                   |43+1        |43+1        |43+1        |44          |44          |44          |44          |44          |46+1        |46+1        |46+1        |46+1        |47+1        |47+1        |47+1        |46+1        |47+1        |49+1        |49+1        |49+1        |47+1        |47+1        |49+1        |49+1        |49+1        |47+1        |13+1        |2018         |1            |\n",
      "|236289       |O. Byrne    |Oliver Byrne  |GK              |50           |67           |50000        |2000         |19           |1997-12-31|188          |75           |1961         |Cardiff City    |English League Championship|2            |RES          |38                |2016-07-13  |2019                     |14            |England            |Left          |3            |1            |1                       |Medium/Medium|Normal (185+)   |No          |126000            |NULL         |NULL         |NULL         |NULL         |NULL         |NULL         |12                |8                  |11                        |20                     |5                |5              |14           |12               |22                |19                |33                   |31                   |24              |37                |34              |24              |47           |22           |53            |8               |18                  |13                     |7                    |33              |19                 |24                 |6                          |13                       |12                      |48                |50                  |54                 |47                     |57                  |18+1        |18+1        |18+1        |18          |18          |18          |18          |18          |19+1        |19+1        |19+1        |19+1        |20+1        |20+1        |20+1        |19+1        |18+1        |20+1        |20+1        |20+1        |18+1        |18+1        |19+1        |19+1        |19+1        |18+1        |49+1        |2018         |1            |\n",
      "+-------------+------------+--------------+----------------+-------------+-------------+-------------+-------------+-------------+----------+-------------+-------------+-------------+----------------+---------------------------+-------------+-------------+------------------+------------+-------------------------+--------------+-------------------+--------------+-------------+-------------+------------------------+-------------+----------------+------------+------------------+-------------+-------------+-------------+-------------+-------------+-------------+------------------+-------------------+--------------------------+-----------------------+-----------------+---------------+-------------+-----------------+------------------+------------------+---------------------+---------------------+----------------+------------------+----------------+----------------+-------------+-------------+--------------+----------------+--------------------+-----------------------+---------------------+----------------+-------------------+-------------------+---------------------------+-------------------------+------------------------+------------------+--------------------+-------------------+-----------------------+--------------------+------------+------------+------------+------------+------------+------------+------------+------------+------------+------------+------------+------------+------------+------------+------------+------------+------------+------------+------------+------------+------------+------------+------------+------------+------------+------------+------------+-------------+-------------+\n",
      "\n"
     ]
    }
   ],
   "source": [
    "def add_schema_row(df, num_rows=5):\n",
    "    # Get column names and data types\n",
    "    schema_info = [(field.name, str(field.dataType)) for field in df.schema.fields]\n",
    "    columns = [name for name, dtype in schema_info]\n",
    "    data_types = [dtype for name, dtype in schema_info]\n",
    "    \n",
    "    # Create a row containing the data type\n",
    "    schema_row = Row(*data_types)\n",
    "    schema_df = spark.createDataFrame([schema_row], columns)\n",
    "    \n",
    "    # Getting the first few rows of data\n",
    "    data_df = df.limit(num_rows)\n",
    "    \n",
    "    combined_df = schema_df.union(data_df)\n",
    "    \n",
    "    return combined_df\n",
    "\n",
    "# Creating a df to easily check whether the data type is inferred correctly.\n",
    "combined_df = add_schema_row(df_transferType, num_rows=5)\n",
    "combined_df.show(truncate=False)\n",
    "\n",
    "# I used GPT for constructing the code to show the df with the data type[1].\n",
    "# [1]OpenAI. (2024). *ChatGPT* [Large language model]. https://chat.openai.com/\n"
   ]
  },
  {
   "cell_type": "markdown",
   "id": "3d25682f",
   "metadata": {},
   "source": [
    "There are several potential problems with the datatype. Further work could be done when optimizing different ML models. Among them, the position rating (i.e. ls          |st          |rs          |lw .....) should be IntegerType() to represent the players capability of different roles."
   ]
  },
  {
   "cell_type": "code",
   "execution_count": 36,
   "id": "3be66698",
   "metadata": {},
   "outputs": [],
   "source": [
    "# dob is a DataType(), maybe could also be changed into Timestamp? \n",
    "# club_joined could be changed to timestamp (now it's StringType)\n",
    "# body_type is like Normal (170-) ,Normal (170-185). Maybe it could also be changed to integers?"
   ]
  },
  {
   "cell_type": "code",
   "execution_count": 37,
   "id": "a4d5a7ba",
   "metadata": {},
   "outputs": [],
   "source": [
    "# The Position Ratings has a format of n+3, which means the boost a player can gain in the FIFA game. \n",
    "# For example, player performance can be influenced by team chemistry and player morale, leading to temporary boosts.\n",
    "# However, it got inferred as StringType(), which isn't helpful for ML modeling.\n",
    "# Therefore, I transferred it into IntegerType():\n",
    "position_columns = [\n",
    "    'ls', 'st', 'rs', 'lw', 'lf', 'cf', 'rf', 'rw',\n",
    "    'lam', 'cam', 'ram', 'lm', 'lcm', 'cm', 'rcm',\n",
    "    'rm', 'lwb', 'ldm', 'cdm', 'rdm', 'rwb', 'lb',\n",
    "    'lcb', 'cb', 'rcb', 'rb', 'gk'\n",
    "]\n",
    "# Pyspark has a built-in funcion for this : imported before (regexp_extract)\n",
    "\n",
    "# Split the string and calculate the sum (by overwriting the original columns)\n",
    "# colums have scenarios that players position ratings are N+m, N-m or N\n",
    "# Pattern to extract the base number (N)\n",
    "pattern_base = r'^(\\d+)'\n",
    "\n",
    "# Pattern to extract the modifier with its sign (+M or -M)\n",
    "pattern_modifier = r'([+-]\\d+)$'\n",
    "\n",
    "df_position_calculated=df_transferType\n",
    "for col_name in position_columns:\n",
    "    # Extract the base rating\n",
    "    base = regexp_extract(col(col_name), pattern_base, 1).cast(IntegerType())\n",
    "    \n",
    "    # Extract the modifier (if any), including the sign\n",
    "    modifier = regexp_extract(col(col_name), pattern_modifier, 1).cast(IntegerType())\n",
    "    \n",
    "    # Compute the effective rating\n",
    "    df_position_calculated = df_position_calculated.withColumn(\n",
    "        col_name,\n",
    "        base + when(modifier.isNotNull(), modifier).otherwise(0)\n",
    "    )\n",
    "\n",
    "# I used GPT for constructing the code. Also, GPT inspired me to use regexp_extract[2].\n",
    "# [2]OpenAI. (2024). *ChatGPT* [Large language model]. https://chat.openai.com/"
   ]
  },
  {
   "cell_type": "code",
   "execution_count": 38,
   "id": "b0e3e81f",
   "metadata": {},
   "outputs": [
    {
     "name": "stdout",
     "output_type": "stream",
     "text": [
      "+---+---+---+---+---+---+---+---+---+---+---+---+---+---+---+---+---+---+---+---+---+---+---+---+---+---+---+\n",
      "| ls| st| rs| lw| lf| cf| rf| rw|lam|cam|ram| lm|lcm| cm|rcm| rm|lwb|ldm|cdm|rdm|rwb| lb|lcb| cb|rcb| rb| gk|\n",
      "+---+---+---+---+---+---+---+---+---+---+---+---+---+---+---+---+---+---+---+---+---+---+---+---+---+---+---+\n",
      "| 50| 50| 50| 48| 48| 48| 48| 48| 48| 48| 48| 47| 40| 40| 40| 47| 33| 30| 30| 30| 33| 32| 28| 28| 28| 32| 17|\n",
      "| 39| 39| 39| 43| 40| 40| 40| 43| 42| 42| 42| 45| 41| 41| 41| 45| 49| 45| 45| 45| 49| 50| 48| 48| 48| 50| 14|\n",
      "| 50| 50| 50| 53| 52| 52| 52| 53| 54| 54| 54| 54| 49| 49| 49| 54| 39| 36| 36| 36| 39| 35| 28| 28| 28| 35| 15|\n",
      "| 44| 44| 44| 44| 44| 44| 44| 44| 47| 47| 47| 47| 48| 48| 48| 47| 48| 50| 50| 50| 48| 48| 50| 50| 50| 48| 14|\n",
      "| 19| 19| 19| 18| 18| 18| 18| 18| 20| 20| 20| 20| 21| 21| 21| 20| 19| 21| 21| 21| 19| 19| 20| 20| 20| 19| 50|\n",
      "| 18| 18| 18| 16| 16| 16| 16| 16| 18| 18| 18| 17| 18| 18| 18| 17| 16| 18| 18| 18| 16| 16| 20| 20| 20| 16| 50|\n",
      "| 19| 19| 19| 19| 19| 19| 19| 19| 22| 22| 22| 22| 23| 23| 23| 22| 21| 22| 22| 22| 21| 20| 21| 21| 21| 20| 50|\n",
      "| 40| 40| 40| 42| 39| 39| 39| 42| 41| 41| 41| 45| 42| 42| 42| 45| 50| 47| 47| 47| 50| 50| 50| 50| 50| 50| 14|\n",
      "| 40| 40| 40| 43| 41| 41| 41| 43| 42| 42| 42| 45| 43| 43| 43| 45| 50| 48| 48| 48| 50| 50| 50| 50| 50| 50| 15|\n",
      "| 35| 35| 35| 32| 32| 32| 32| 32| 33| 33| 33| 34| 35| 35| 35| 34| 44| 44| 44| 44| 44| 47| 50| 50| 50| 47| 16|\n",
      "| 50| 50| 50| 48| 48| 48| 48| 48| 47| 47| 47| 47| 40| 40| 40| 47| 34| 30| 30| 30| 34| 33| 30| 30| 30| 33| 13|\n",
      "| 46| 46| 46| 51| 49| 49| 49| 51| 50| 50| 50| 51| 43| 43| 43| 51| 41| 36| 36| 36| 41| 40| 34| 34| 34| 40| 15|\n",
      "| 47| 47| 47| 47| 48| 48| 48| 47| 50| 50| 50| 49| 50| 50| 50| 49| 49| 49| 49| 49| 49| 49| 47| 47| 47| 49| 14|\n",
      "| 49| 49| 49| 49| 49| 49| 49| 49| 51| 51| 51| 50| 50| 50| 50| 50| 48| 49| 49| 49| 48| 48| 48| 48| 48| 48| 15|\n",
      "| 48| 48| 48| 53| 51| 51| 51| 53| 54| 54| 54| 55| 53| 53| 53| 55| 51| 50| 50| 50| 51| 51| 46| 46| 46| 51| 13|\n",
      "| 16| 16| 16| 15| 15| 15| 15| 15| 19| 19| 19| 18| 20| 20| 20| 18| 16| 19| 19| 19| 16| 16| 19| 19| 19| 16| 50|\n",
      "| 36| 36| 36| 32| 32| 32| 32| 32| 31| 31| 31| 34| 33| 33| 33| 34| 44| 42| 42| 42| 44| 46| 50| 50| 50| 46| 18|\n",
      "| 47| 47| 47| 47| 47| 47| 47| 47| 48| 48| 48| 50| 48| 48| 48| 50| 48| 47| 47| 47| 48| 48| 48| 48| 48| 48| 14|\n",
      "| 48| 48| 48| 49| 48| 48| 48| 49| 52| 52| 52| 51| 50| 50| 50| 51| 45| 46| 46| 46| 45| 44| 43| 43| 43| 44| 14|\n",
      "| 43| 43| 43| 44| 43| 43| 43| 44| 45| 45| 45| 47| 47| 47| 47| 47| 50| 50| 50| 50| 50| 50| 49| 49| 49| 50| 16|\n",
      "+---+---+---+---+---+---+---+---+---+---+---+---+---+---+---+---+---+---+---+---+---+---+---+---+---+---+---+\n",
      "only showing top 20 rows\n",
      "\n",
      "+----+----+----+---+---+---+---+---+----+----+----+----+----+----+----+----+----+----+----+----+----+----+----+----+----+----+----+\n",
      "|  ls|  st|  rs| lw| lf| cf| rf| rw| lam| cam| ram|  lm| lcm|  cm| rcm|  rm| lwb| ldm| cdm| rdm| rwb|  lb| lcb|  cb| rcb|  rb|  gk|\n",
      "+----+----+----+---+---+---+---+---+----+----+----+----+----+----+----+----+----+----+----+----+----+----+----+----+----+----+----+\n",
      "|49+1|49+1|49+1| 48| 48| 48| 48| 48|47+1|47+1|47+1|46+1|39+1|39+1|39+1|46+1|32+1|29+1|29+1|29+1|32+1|31+1|27+1|27+1|27+1|31+1|16+1|\n",
      "|38+1|38+1|38+1| 43| 40| 40| 40| 43|41+1|41+1|41+1|44+1|40+1|40+1|40+1|44+1|48+1|44+1|44+1|44+1|48+1|49+1|47+1|47+1|47+1|49+1|13+1|\n",
      "|49+1|49+1|49+1| 53| 52| 52| 52| 53|53+1|53+1|53+1|53+1|48+1|48+1|48+1|53+1|38+1|35+1|35+1|35+1|38+1|34+1|27+1|27+1|27+1|34+1|14+1|\n",
      "|43+1|43+1|43+1| 44| 44| 44| 44| 44|46+1|46+1|46+1|46+1|47+1|47+1|47+1|46+1|47+1|49+1|49+1|49+1|47+1|47+1|49+1|49+1|49+1|47+1|13+1|\n",
      "|18+1|18+1|18+1| 18| 18| 18| 18| 18|19+1|19+1|19+1|19+1|20+1|20+1|20+1|19+1|18+1|20+1|20+1|20+1|18+1|18+1|19+1|19+1|19+1|18+1|49+1|\n",
      "|17+1|17+1|17+1| 16| 16| 16| 16| 16|17+1|17+1|17+1|16+1|17+1|17+1|17+1|16+1|15+1|17+1|17+1|17+1|15+1|15+1|19+1|19+1|19+1|15+1|49+1|\n",
      "|18+1|18+1|18+1| 19| 19| 19| 19| 19|21+1|21+1|21+1|21+1|22+1|22+1|22+1|21+1|20+1|21+1|21+1|21+1|20+1|19+1|20+1|20+1|20+1|19+1|49+1|\n",
      "|39+1|39+1|39+1| 42| 39| 39| 39| 42|40+1|40+1|40+1|44+1|41+1|41+1|41+1|44+1|49+1|46+1|46+1|46+1|49+1|49+1|49+1|49+1|49+1|49+1|13+1|\n",
      "|39+1|39+1|39+1| 43| 41| 41| 41| 43|41+1|41+1|41+1|44+1|42+1|42+1|42+1|44+1|49+1|47+1|47+1|47+1|49+1|49+1|49+1|49+1|49+1|49+1|14+1|\n",
      "|34+1|34+1|34+1| 32| 32| 32| 32| 32|32+1|32+1|32+1|33+1|34+1|34+1|34+1|33+1|43+1|43+1|43+1|43+1|43+1|46+1|49+1|49+1|49+1|46+1|15+1|\n",
      "|49+1|49+1|49+1| 48| 48| 48| 48| 48|46+1|46+1|46+1|46+1|39+1|39+1|39+1|46+1|33+1|29+1|29+1|29+1|33+1|32+1|29+1|29+1|29+1|32+1|12+1|\n",
      "|45+1|45+1|45+1| 51| 49| 49| 49| 51|49+1|49+1|49+1|50+1|42+1|42+1|42+1|50+1|40+1|35+1|35+1|35+1|40+1|39+1|33+1|33+1|33+1|39+1|14+1|\n",
      "|46+1|46+1|46+1| 47| 48| 48| 48| 47|49+1|49+1|49+1|48+1|49+1|49+1|49+1|48+1|48+1|48+1|48+1|48+1|48+1|48+1|46+1|46+1|46+1|48+1|13+1|\n",
      "|48+1|48+1|48+1| 49| 49| 49| 49| 49|50+1|50+1|50+1|49+1|49+1|49+1|49+1|49+1|47+1|48+1|48+1|48+1|47+1|47+1|47+1|47+1|47+1|47+1|14+1|\n",
      "|47+1|47+1|47+1| 53| 51| 51| 51| 53|53+1|53+1|53+1|54+1|52+1|52+1|52+1|54+1|50+1|49+1|49+1|49+1|50+1|50+1|45+1|45+1|45+1|50+1|12+1|\n",
      "|15+1|15+1|15+1| 15| 15| 15| 15| 15|18+1|18+1|18+1|17+1|19+1|19+1|19+1|17+1|15+1|18+1|18+1|18+1|15+1|15+1|18+1|18+1|18+1|15+1|49+1|\n",
      "|35+1|35+1|35+1| 32| 32| 32| 32| 32|30+1|30+1|30+1|33+1|32+1|32+1|32+1|33+1|43+1|41+1|41+1|41+1|43+1|45+1|49+1|49+1|49+1|45+1|17+1|\n",
      "|46+1|46+1|46+1| 47| 47| 47| 47| 47|47+1|47+1|47+1|49+1|47+1|47+1|47+1|49+1|47+1|46+1|46+1|46+1|47+1|47+1|47+1|47+1|47+1|47+1|13+1|\n",
      "|47+1|47+1|47+1| 49| 48| 48| 48| 49|51+1|51+1|51+1|50+1|49+1|49+1|49+1|50+1|44+1|45+1|45+1|45+1|44+1|43+1|42+1|42+1|42+1|43+1|13+1|\n",
      "|42+1|42+1|42+1| 44| 43| 43| 43| 44|44+1|44+1|44+1|46+1|46+1|46+1|46+1|46+1|49+1|49+1|49+1|49+1|49+1|49+1|48+1|48+1|48+1|49+1|15+1|\n",
      "+----+----+----+---+---+---+---+---+----+----+----+----+----+----+----+----+----+----+----+----+----+----+----+----+----+----+----+\n",
      "only showing top 20 rows\n",
      "\n"
     ]
    }
   ],
   "source": [
    "df_position_calculated.select(position_columns).show()\n",
    "df_transferType.select(position_columns).show()"
   ]
  },
  {
   "cell_type": "markdown",
   "id": "22d94f9b",
   "metadata": {},
   "source": [
    "##### D.3 _Null Value Handling_"
   ]
  },
  {
   "cell_type": "markdown",
   "id": "4fed6057",
   "metadata": {},
   "source": [
    "D.3.a _Female players_"
   ]
  },
  {
   "cell_type": "markdown",
   "id": "7e59e090",
   "metadata": {},
   "source": [
    "All of the female players have a lot of null columns. Therefore, female players' data should be seperately treated since treating the whole data with imputation may cause some unexpected bias. \n"
   ]
  },
  {
   "cell_type": "code",
   "execution_count": 39,
   "id": "ca0fd790",
   "metadata": {},
   "outputs": [],
   "source": [
    "df_female=df_position_calculated.filter(col('gender')==0)\n",
    "df_male=df_position_calculated.filter(col('gender')==1)"
   ]
  },
  {
   "cell_type": "code",
   "execution_count": 40,
   "id": "dd8cf626",
   "metadata": {},
   "outputs": [
    {
     "name": "stdout",
     "output_type": "stream",
     "text": [
      "-RECORD 0------------------------------------------\n",
      " sofifa_id                   | 0.0                 \n",
      " short_name                  | 0.0                 \n",
      " long_name                   | 0.0                 \n",
      " player_positions            | 0.0                 \n",
      " overall                     | 0.0                 \n",
      " potential                   | 0.0                 \n",
      " value_eur                   | 0.9808377896613191  \n",
      " wage_eur                    | 0.9795008912655971  \n",
      " age                         | 0.0                 \n",
      " dob                         | 0.0                 \n",
      " height_cm                   | 0.0                 \n",
      " weight_kg                   | 0.0                 \n",
      " club_team_id                | 1.0                 \n",
      " club_name                   | 1.0                 \n",
      " league_name                 | 1.0                 \n",
      " league_level                | 1.0                 \n",
      " club_position               | 1.0                 \n",
      " club_jersey_number          | 1.0                 \n",
      " club_joined                 | 1.0                 \n",
      " club_contract_valid_until   | 1.0                 \n",
      " nationality_id              | 0.0                 \n",
      " nationality_name            | 0.0                 \n",
      " preferred_foot              | 0.0                 \n",
      " weak_foot                   | 0.0                 \n",
      " skill_moves                 | 0.0                 \n",
      " international_reputation    | 0.0                 \n",
      " work_rate                   | 0.0                 \n",
      " body_type                   | 0.0                 \n",
      " real_face                   | 0.0                 \n",
      " release_clause_eur          | 0.9795008912655971  \n",
      " pace                        | 0.12611408199643495 \n",
      " shooting                    | 0.12611408199643495 \n",
      " passing                     | 0.12611408199643495 \n",
      " dribbling                   | 0.12611408199643495 \n",
      " defending                   | 0.12611408199643495 \n",
      " physic                      | 0.12611408199643495 \n",
      " attacking_crossing          | 0.0                 \n",
      " attacking_finishing         | 0.0                 \n",
      " attacking_heading_accuracy  | 0.0                 \n",
      " attacking_short_passing     | 0.0                 \n",
      " attacking_volleys           | 0.0                 \n",
      " skill_dribbling             | 0.0                 \n",
      " skill_curve                 | 0.0                 \n",
      " skill_fk_accuracy           | 0.0                 \n",
      " skill_long_passing          | 0.0                 \n",
      " skill_ball_control          | 0.0                 \n",
      " movement_acceleration       | 0.0                 \n",
      " movement_sprint_speed       | 0.0                 \n",
      " movement_agility            | 0.0                 \n",
      " movement_reactions          | 0.0                 \n",
      " movement_balance            | 0.0                 \n",
      " power_shot_power            | 0.0                 \n",
      " power_jumping               | 0.0                 \n",
      " power_stamina               | 0.0                 \n",
      " power_strength              | 0.0                 \n",
      " power_long_shots            | 0.0                 \n",
      " mentality_aggression        | 0.0                 \n",
      " mentality_interceptions     | 0.0                 \n",
      " mentality_positioning       | 0.0                 \n",
      " mentality_vision            | 0.0                 \n",
      " mentality_penalties         | 0.0                 \n",
      " mentality_composure         | 0.11051693404634581 \n",
      " defending_marking_awareness | 0.0                 \n",
      " defending_standing_tackle   | 0.0                 \n",
      " defending_sliding_tackle    | 0.0                 \n",
      " goalkeeping_diving          | 0.0                 \n",
      " goalkeeping_handling        | 0.0                 \n",
      " goalkeeping_kicking         | 0.0                 \n",
      " goalkeeping_positioning     | 0.0                 \n",
      " goalkeeping_reflexes        | 0.0                 \n",
      " ls                          | 0.0                 \n",
      " st                          | 0.0                 \n",
      " rs                          | 0.0                 \n",
      " lw                          | 0.0                 \n",
      " lf                          | 0.0                 \n",
      " cf                          | 0.0                 \n",
      " rf                          | 0.0                 \n",
      " rw                          | 0.0                 \n",
      " lam                         | 0.0                 \n",
      " cam                         | 0.0                 \n",
      " ram                         | 0.0                 \n",
      " lm                          | 0.0                 \n",
      " lcm                         | 0.0                 \n",
      " cm                          | 0.0                 \n",
      " rcm                         | 0.0                 \n",
      " rm                          | 0.0                 \n",
      " lwb                         | 0.0                 \n",
      " ldm                         | 0.0                 \n",
      " cdm                         | 0.0                 \n",
      " rdm                         | 0.0                 \n",
      " rwb                         | 0.0                 \n",
      " lb                          | 0.0                 \n",
      " lcb                         | 0.0                 \n",
      " cb                          | 0.0                 \n",
      " rcb                         | 0.0                 \n",
      " rb                          | 0.0                 \n",
      " gk                          | 0.0                 \n",
      " year                        | 0.0                 \n",
      " gender                      | 0.0                 \n",
      "\n"
     ]
    }
   ],
   "source": [
    "#getting a list of the rest null cols\n",
    "col_ratio_female = show_null_ratio(df_female).collect()[0]"
   ]
  },
  {
   "cell_type": "code",
   "execution_count": 41,
   "id": "1b5ad49f",
   "metadata": {},
   "outputs": [
    {
     "name": "stdout",
     "output_type": "stream",
     "text": [
      "['value_eur', 'wage_eur', 'club_team_id', 'club_name', 'league_name', 'league_level', 'club_position', 'club_jersey_number', 'club_joined', 'club_contract_valid_until', 'release_clause_eur']\n"
     ]
    }
   ],
   "source": [
    "# showing the lists that female players has a very high ratio of nullValue\n",
    "col_have_null = [df_female.columns[i] for i in range(len(col_ratio_female)) if col_ratio_female[i]>0.9]\n",
    "print(col_have_null)"
   ]
  },
  {
   "cell_type": "code",
   "execution_count": 42,
   "id": "c103cf8e",
   "metadata": {},
   "outputs": [],
   "source": [
    "col_female_high_null=['value_eur', 'wage_eur', 'club_team_id', 'club_name', 'league_name', 'league_level', 'club_position', 'club_jersey_number', 'club_joined', 'club_contract_valid_until', 'release_clause_eur']"
   ]
  },
  {
   "cell_type": "code",
   "execution_count": 43,
   "id": "b39d19e1",
   "metadata": {},
   "outputs": [
    {
     "name": "stdout",
     "output_type": "stream",
     "text": [
      "root\n",
      " |-- value_eur: integer (nullable = true)\n",
      " |-- wage_eur: integer (nullable = true)\n",
      " |-- club_team_id: integer (nullable = true)\n",
      " |-- club_name: string (nullable = true)\n",
      " |-- league_name: string (nullable = true)\n",
      " |-- league_level: integer (nullable = true)\n",
      " |-- club_position: string (nullable = true)\n",
      " |-- club_jersey_number: integer (nullable = true)\n",
      " |-- club_joined: string (nullable = true)\n",
      " |-- club_contract_valid_until: integer (nullable = true)\n",
      " |-- release_clause_eur: integer (nullable = true)\n",
      "\n"
     ]
    }
   ],
   "source": [
    "df_female.select(col_female_high_null).printSchema()"
   ]
  },
  {
   "cell_type": "code",
   "execution_count": 44,
   "id": "e28b9bab",
   "metadata": {},
   "outputs": [],
   "source": [
    "# filling all the null string columns with Unknown\n",
    "df_female = df_female.fillna({'club_name': 'Unknown','league_name': 'Unknown','club_position': 'Unknown','club_joined': 'Unknown'})"
   ]
  },
  {
   "cell_type": "markdown",
   "id": "18b33286",
   "metadata": {},
   "source": [
    "- Although it may cause bias without seperately treating null columns, for most of the integer columns in the female df, there isn't much other data for correspondence.\n",
    "- So we still have to put them back together"
   ]
  },
  {
   "cell_type": "code",
   "execution_count": 45,
   "id": "88becfac",
   "metadata": {},
   "outputs": [],
   "source": [
    "df_all_gender=df_male.union(df_female)"
   ]
  },
  {
   "cell_type": "markdown",
   "id": "1fa15d95",
   "metadata": {},
   "source": [
    "D.3.b All players"
   ]
  },
  {
   "cell_type": "code",
   "execution_count": 46,
   "id": "ef78465d",
   "metadata": {},
   "outputs": [],
   "source": [
    "schema = df_all_gender.schema\n",
    "\n",
    "# obtaining the string cols\n",
    "string_columns = [field.name for field in schema.fields if isinstance(field.dataType, StringType)]\n",
    "\n",
    "# obtaining the numeric cols\n",
    "numeric_columns = [field.name for field in schema.fields if isinstance(field.dataType, (IntegerType, FloatType, DoubleType))]\n"
   ]
  },
  {
   "cell_type": "code",
   "execution_count": 47,
   "id": "62078223",
   "metadata": {},
   "outputs": [],
   "source": [
    "# Finding cols with nullValues in StringTypes\n",
    "string_columns_with_null = []\n",
    "for col_name in string_columns:\n",
    "    null_count = df_all_gender.filter(isnull(col(col_name))).count()\n",
    "    if null_count > 0:\n",
    "        string_columns_with_null.append(col_name)\n"
   ]
  },
  {
   "cell_type": "code",
   "execution_count": 48,
   "id": "6d9b10dd",
   "metadata": {},
   "outputs": [],
   "source": [
    "for col_name in string_columns_with_null:\n",
    "    # It seems that there isn't a built-in function to compute mode\n",
    "    mode_df = df_all_gender.groupBy(col_name).agg(count(col_name).alias('count')).orderBy(desc('count'))\n",
    "    mode = mode_df.first()[0]\n",
    "    \n",
    "    # fill it\n",
    "    df_all_gender = df_all_gender.fillna({col_name: mode})"
   ]
  },
  {
   "cell_type": "code",
   "execution_count": 49,
   "id": "2fa8b581",
   "metadata": {},
   "outputs": [],
   "source": [
    "df_string_filled=df_all_gender"
   ]
  },
  {
   "cell_type": "code",
   "execution_count": 50,
   "id": "84465dd4",
   "metadata": {},
   "outputs": [],
   "source": [
    "# Finding cols with nullValues in numeric columns\n",
    "numeric_columns_with_null = []\n",
    "for col_name in numeric_columns:\n",
    "    null_count = df_all_gender.filter(isnull(col(col_name))).count()\n",
    "    if null_count > 0:\n",
    "        numeric_columns_with_null.append(col_name)"
   ]
  },
  {
   "cell_type": "code",
   "execution_count": 51,
   "id": "10a4ff15",
   "metadata": {},
   "outputs": [],
   "source": [
    "# obtain median for integers\n",
    "for col_name in numeric_columns_with_null:\n",
    "    median = df_string_filled.approxQuantile(col_name, [0.5], 0.001)[0]\n",
    "    df_string_filled = df_string_filled.fillna({col_name: median})"
   ]
  },
  {
   "cell_type": "code",
   "execution_count": 52,
   "id": "438e94fa",
   "metadata": {},
   "outputs": [],
   "source": [
    "df_filled=df_string_filled"
   ]
  },
  {
   "cell_type": "code",
   "execution_count": 53,
   "id": "a6c39a1d",
   "metadata": {},
   "outputs": [
    {
     "name": "stdout",
     "output_type": "stream",
     "text": [
      "+---------+------------+--------------------+----------------+-------+---------+---------+--------+---+----------+---------+---------+------------+--------------------+--------------------+------------+-------------+------------------+-----------+-------------------------+--------------+----------------+--------------+---------+-----------+------------------------+-------------+----------------+---------+------------------+----+--------+-------+---------+---------+------+------------------+-------------------+--------------------------+-----------------------+-----------------+---------------+-----------+-----------------+------------------+------------------+---------------------+---------------------+----------------+------------------+----------------+----------------+-------------+-------------+--------------+----------------+--------------------+-----------------------+---------------------+----------------+-------------------+-------------------+---------------------------+-------------------------+------------------------+------------------+--------------------+-------------------+-----------------------+--------------------+---+---+---+---+---+---+---+---+---+---+---+---+---+---+---+---+---+---+---+---+---+---+---+---+---+---+---+----+------+\n",
      "|sofifa_id|  short_name|           long_name|player_positions|overall|potential|value_eur|wage_eur|age|       dob|height_cm|weight_kg|club_team_id|           club_name|         league_name|league_level|club_position|club_jersey_number|club_joined|club_contract_valid_until|nationality_id|nationality_name|preferred_foot|weak_foot|skill_moves|international_reputation|    work_rate|       body_type|real_face|release_clause_eur|pace|shooting|passing|dribbling|defending|physic|attacking_crossing|attacking_finishing|attacking_heading_accuracy|attacking_short_passing|attacking_volleys|skill_dribbling|skill_curve|skill_fk_accuracy|skill_long_passing|skill_ball_control|movement_acceleration|movement_sprint_speed|movement_agility|movement_reactions|movement_balance|power_shot_power|power_jumping|power_stamina|power_strength|power_long_shots|mentality_aggression|mentality_interceptions|mentality_positioning|mentality_vision|mentality_penalties|mentality_composure|defending_marking_awareness|defending_standing_tackle|defending_sliding_tackle|goalkeeping_diving|goalkeeping_handling|goalkeeping_kicking|goalkeeping_positioning|goalkeeping_reflexes| ls| st| rs| lw| lf| cf| rf| rw|lam|cam|ram| lm|lcm| cm|rcm| rm|lwb|ldm|cdm|rdm|rwb| lb|lcb| cb|rcb| rb| gk|year|gender|\n",
      "+---------+------------+--------------------+----------------+-------+---------+---------+--------+---+----------+---------+---------+------------+--------------------+--------------------+------------+-------------+------------------+-----------+-------------------------+--------------+----------------+--------------+---------+-----------+------------------------+-------------+----------------+---------+------------------+----+--------+-------+---------+---------+------+------------------+-------------------+--------------------------+-----------------------+-----------------+---------------+-----------+-----------------+------------------+------------------+---------------------+---------------------+----------------+------------------+----------------+----------------+-------------+-------------+--------------+----------------+--------------------+-----------------------+---------------------+----------------+-------------------+-------------------+---------------------------+-------------------------+------------------------+------------------+--------------------+-------------------+-----------------------+--------------------+---+---+---+---+---+---+---+---+---+---+---+---+---+---+---+---+---+---+---+---+---+---+---+---+---+---+---+----+------+\n",
      "|   227290|M. Dmitrović|     Marko Dmitrović|              GK|     72|       78|  2500000|    6000| 24|1992-01-24|      194|       90|      100831|         AD Alcorcón|Spanish Segunda D...|           2|           GK|                 1| 2016-07-07|                     2019|            51|          Serbia|          Left|        2|          1|                       1|Medium/Medium|   Normal (185+)|       No|           1300000|  69|      54|     58|       63|       56|    66|                21|                 16|                        12|                     30|               15|             17|         20|               14|                20|                11|                   39|                   35|              32|                66|              37|              24|           33|           38|            81|              17|                  17|                     17|                   13|              41|                 25|                 22|                         14|                       12|                      20|                65|                  77|                 65|                     79|                  68| 26| 26| 26| 25| 25| 25| 25| 25| 28| 28| 28| 28| 28| 28| 28| 28| 27| 27| 27| 27| 27| 26| 27| 27| 27| 26| 72|2017|     1|\n",
      "|   227550|    D. Viera|Diego Francisco V...|              CB|     72|       78|  2400000|    9000| 25|1991-04-30|      185|       91|      111706|          Godoy Cruz|Argentina Primera...|           1|          LCB|                 5| 2015-01-08|                     2018|            58|        Paraguay|         Right|        3|          2|                       1|   Low/Medium|   Stocky (185+)|       No|           1300000|  52|      27|     37|       44|       74|    69|                26|                 21|                        78|                     56|               31|             37|         28|               23|                35|                46|                   49|                   54|              52|                78|              50|              38|           39|           31|            90|              22|                  70|                     59|                   25|              22|                 45|                 65|                         80|                       78|                      66|                15|                   9|                  8|                     10|                   7| 46| 46| 46| 40| 41| 41| 41| 40| 42| 42| 42| 42| 45| 45| 45| 42| 56| 60| 60| 60| 56| 60| 72| 72| 72| 60| 19|2017|     1|\n",
      "|   227886| D. Buitrago|Daniel Esteban Bu...|             CAM|     72|       76|  2700000|    2000| 25|1991-02-27|      178|       76|      112934|            Cortuluá|Colombian Liga Po...|           1|          RAM|                13| 2015-02-02|                     2023|            56|        Colombia|          Left|        2|          3|                       1|  Medium/High|Stocky (170-185)|       No|           1300000|  74|      67|     70|       72|       20|    60|                66|                 66|                        34|                     71|               48|             74|         62|               64|                68|                70|                   76|                   72|              74|                58|              70|              70|           53|           56|            66|              74|                  51|                     19|                   69|              75|                 56|                 63|                         13|                       22|                      26|                 8|                  14|                  6|                      6|                  12| 66| 66| 66| 70| 69| 69| 69| 70| 72| 72| 72| 70| 65| 65| 65| 70| 50| 48| 48| 48| 50| 46| 37| 37| 37| 46| 16|2017|     1|\n",
      "|   227950|       Yeray| Yeray Álvarez López|          CB, RB|     72|       78|  2500000|   10000| 21|1995-01-24|      183|       78|         448|Athletic Club de ...|Spain Primera Div...|           1|          RES|                27| 2014-07-01|                     2017|            45|           Spain|         Right|        3|          2|                       1|  Medium/High|Normal (170-185)|       No|           1300000|  68|      48|     56|       54|       71|    76|                48|                 41|                        73|                     67|               52|             48|         64|               50|                68|                59|                   66|                   69|              55|                64|              76|              69|           75|           73|            76|              43|                  79|                     70|                   39|              34|                 61|                 78|                         69|                       71|                      76|                12|                   9|                  8|                     12|                  11| 58| 58| 58| 53| 53| 53| 53| 53| 54| 54| 54| 56| 59| 59| 59| 56| 67| 69| 69| 69| 67| 69| 72| 72| 72| 69| 18|2017|     1|\n",
      "+---------+------------+--------------------+----------------+-------+---------+---------+--------+---+----------+---------+---------+------------+--------------------+--------------------+------------+-------------+------------------+-----------+-------------------------+--------------+----------------+--------------+---------+-----------+------------------------+-------------+----------------+---------+------------------+----+--------+-------+---------+---------+------+------------------+-------------------+--------------------------+-----------------------+-----------------+---------------+-----------+-----------------+------------------+------------------+---------------------+---------------------+----------------+------------------+----------------+----------------+-------------+-------------+--------------+----------------+--------------------+-----------------------+---------------------+----------------+-------------------+-------------------+---------------------------+-------------------------+------------------------+------------------+--------------------+-------------------+-----------------------+--------------------+---+---+---+---+---+---+---+---+---+---+---+---+---+---+---+---+---+---+---+---+---+---+---+---+---+---+---+----+------+\n",
      "only showing top 4 rows\n",
      "\n"
     ]
    }
   ],
   "source": [
    "df_filled.show(4)"
   ]
  },
  {
   "cell_type": "code",
   "execution_count": 54,
   "id": "eb5b5ef2-d9de-4834-9afc-bf5f980f0895",
   "metadata": {},
   "outputs": [
    {
     "name": "stdout",
     "output_type": "stream",
     "text": [
      "-RECORD 0-------------------------------------------\n",
      " sofifa_id                   | 227290               \n",
      " short_name                  | M. Dmitrović         \n",
      " long_name                   | Marko Dmitrović      \n",
      " player_positions            | GK                   \n",
      " overall                     | 72                   \n",
      " potential                   | 78                   \n",
      " value_eur                   | 2500000              \n",
      " wage_eur                    | 6000                 \n",
      " age                         | 24                   \n",
      " dob                         | 1992-01-24           \n",
      " height_cm                   | 194                  \n",
      " weight_kg                   | 90                   \n",
      " club_team_id                | 100831               \n",
      " club_name                   | AD Alcorcón          \n",
      " league_name                 | Spanish Segunda D... \n",
      " league_level                | 2                    \n",
      " club_position               | GK                   \n",
      " club_jersey_number          | 1                    \n",
      " club_joined                 | 2016-07-07           \n",
      " club_contract_valid_until   | 2019                 \n",
      " nationality_id              | 51                   \n",
      " nationality_name            | Serbia               \n",
      " preferred_foot              | Left                 \n",
      " weak_foot                   | 2                    \n",
      " skill_moves                 | 1                    \n",
      " international_reputation    | 1                    \n",
      " work_rate                   | Medium/Medium        \n",
      " body_type                   | Normal (185+)        \n",
      " real_face                   | No                   \n",
      " release_clause_eur          | 1300000              \n",
      " pace                        | 69                   \n",
      " shooting                    | 54                   \n",
      " passing                     | 58                   \n",
      " dribbling                   | 63                   \n",
      " defending                   | 56                   \n",
      " physic                      | 66                   \n",
      " attacking_crossing          | 21                   \n",
      " attacking_finishing         | 16                   \n",
      " attacking_heading_accuracy  | 12                   \n",
      " attacking_short_passing     | 30                   \n",
      " attacking_volleys           | 15                   \n",
      " skill_dribbling             | 17                   \n",
      " skill_curve                 | 20                   \n",
      " skill_fk_accuracy           | 14                   \n",
      " skill_long_passing          | 20                   \n",
      " skill_ball_control          | 11                   \n",
      " movement_acceleration       | 39                   \n",
      " movement_sprint_speed       | 35                   \n",
      " movement_agility            | 32                   \n",
      " movement_reactions          | 66                   \n",
      " movement_balance            | 37                   \n",
      " power_shot_power            | 24                   \n",
      " power_jumping               | 33                   \n",
      " power_stamina               | 38                   \n",
      " power_strength              | 81                   \n",
      " power_long_shots            | 17                   \n",
      " mentality_aggression        | 17                   \n",
      " mentality_interceptions     | 17                   \n",
      " mentality_positioning       | 13                   \n",
      " mentality_vision            | 41                   \n",
      " mentality_penalties         | 25                   \n",
      " mentality_composure         | 22                   \n",
      " defending_marking_awareness | 14                   \n",
      " defending_standing_tackle   | 12                   \n",
      " defending_sliding_tackle    | 20                   \n",
      " goalkeeping_diving          | 65                   \n",
      " goalkeeping_handling        | 77                   \n",
      " goalkeeping_kicking         | 65                   \n",
      " goalkeeping_positioning     | 79                   \n",
      " goalkeeping_reflexes        | 68                   \n",
      " ls                          | 26                   \n",
      " st                          | 26                   \n",
      " rs                          | 26                   \n",
      " lw                          | 25                   \n",
      " lf                          | 25                   \n",
      " cf                          | 25                   \n",
      " rf                          | 25                   \n",
      " rw                          | 25                   \n",
      " lam                         | 28                   \n",
      " cam                         | 28                   \n",
      " ram                         | 28                   \n",
      " lm                          | 28                   \n",
      " lcm                         | 28                   \n",
      " cm                          | 28                   \n",
      " rcm                         | 28                   \n",
      " rm                          | 28                   \n",
      " lwb                         | 27                   \n",
      " ldm                         | 27                   \n",
      " cdm                         | 27                   \n",
      " rdm                         | 27                   \n",
      " rwb                         | 27                   \n",
      " lb                          | 26                   \n",
      " lcb                         | 27                   \n",
      " cb                          | 27                   \n",
      " rcb                         | 27                   \n",
      " rb                          | 26                   \n",
      " gk                          | 72                   \n",
      " year                        | 2017                 \n",
      " gender                      | 1                    \n",
      "only showing top 1 row\n",
      "\n"
     ]
    }
   ],
   "source": [
    "df_filled.show(1,vertical=True)"
   ]
  },
  {
   "cell_type": "code",
   "execution_count": 55,
   "id": "6faa8ced",
   "metadata": {},
   "outputs": [
    {
     "data": {
      "text/plain": [
       "'missing_values_count = [\\n    sum(\\n        when(isnull(c), 1).otherwise(0)\\n    ).alias(c)\\n    for c in df_filled.columns\\n]\\n\\ndf_filled.select(missing_values_count).show()\\n'"
      ]
     },
     "execution_count": 55,
     "metadata": {},
     "output_type": "execute_result"
    }
   ],
   "source": [
    "# Checking whether there are any nullValue\n",
    "\n",
    "'''missing_values_count = [\n",
    "    sum(\n",
    "        when(isnull(c), 1).otherwise(0)\n",
    "    ).alias(c)\n",
    "    for c in df_filled.columns\n",
    "]\n",
    "\n",
    "df_filled.select(missing_values_count).show()\n",
    "'''"
   ]
  },
  {
   "cell_type": "code",
   "execution_count": 56,
   "id": "aa3ebb58",
   "metadata": {},
   "outputs": [],
   "source": [
    "df_cleaned=df_filled"
   ]
  },
  {
   "cell_type": "markdown",
   "id": "8765d975",
   "metadata": {},
   "source": [
    "#### E. Data Ingestion"
   ]
  },
  {
   "cell_type": "code",
   "execution_count": 57,
   "id": "c583d4da",
   "metadata": {},
   "outputs": [],
   "source": [
    "#overwrite it to PostgresSQL database\n",
    "df_cleaned.write.format(\"jdbc\")\\\n",
    ".mode(\"overwrite\")\\\n",
    ".option(\"url\", db_properties['url'])\\\n",
    ".option(\"dbtable\", 'fifa.fifa_cleaned')\\\n",
    ".option(\"user\", db_properties['username'])\\\n",
    ".option(\"password\", db_properties['password'])\\\n",
    ".option(\"Driver\", db_properties['driver'])\\\n",
    ".save()"
   ]
  },
  {
   "cell_type": "code",
   "execution_count": 58,
   "id": "491d18f9-6535-4279-a672-956ef6e3dc73",
   "metadata": {},
   "outputs": [],
   "source": [
    "db_properties['table']='fifa.fifa_cleaned'"
   ]
  },
  {
   "cell_type": "code",
   "execution_count": 59,
   "id": "78ffc33f-f96f-4415-b838-e7d88470319d",
   "metadata": {},
   "outputs": [
    {
     "name": "stdout",
     "output_type": "stream",
     "text": [
      "-RECORD 0-------------------------------------------\n",
      " sofifa_id                   | 227290               \n",
      " short_name                  | M. Dmitrović         \n",
      " long_name                   | Marko Dmitrović      \n",
      " player_positions            | GK                   \n",
      " overall                     | 72                   \n",
      " potential                   | 78                   \n",
      " value_eur                   | 2500000              \n",
      " wage_eur                    | 6000                 \n",
      " age                         | 24                   \n",
      " dob                         | 1992-01-24           \n",
      " height_cm                   | 194                  \n",
      " weight_kg                   | 90                   \n",
      " club_team_id                | 100831               \n",
      " club_name                   | AD Alcorcón          \n",
      " league_name                 | Spanish Segunda D... \n",
      " league_level                | 2                    \n",
      " club_position               | GK                   \n",
      " club_jersey_number          | 1                    \n",
      " club_joined                 | 2016-07-07           \n",
      " club_contract_valid_until   | 2019                 \n",
      " nationality_id              | 51                   \n",
      " nationality_name            | Serbia               \n",
      " preferred_foot              | Left                 \n",
      " weak_foot                   | 2                    \n",
      " skill_moves                 | 1                    \n",
      " international_reputation    | 1                    \n",
      " work_rate                   | Medium/Medium        \n",
      " body_type                   | Normal (185+)        \n",
      " real_face                   | No                   \n",
      " release_clause_eur          | 1300000              \n",
      " pace                        | 69                   \n",
      " shooting                    | 54                   \n",
      " passing                     | 58                   \n",
      " dribbling                   | 63                   \n",
      " defending                   | 56                   \n",
      " physic                      | 66                   \n",
      " attacking_crossing          | 21                   \n",
      " attacking_finishing         | 16                   \n",
      " attacking_heading_accuracy  | 12                   \n",
      " attacking_short_passing     | 30                   \n",
      " attacking_volleys           | 15                   \n",
      " skill_dribbling             | 17                   \n",
      " skill_curve                 | 20                   \n",
      " skill_fk_accuracy           | 14                   \n",
      " skill_long_passing          | 20                   \n",
      " skill_ball_control          | 11                   \n",
      " movement_acceleration       | 39                   \n",
      " movement_sprint_speed       | 35                   \n",
      " movement_agility            | 32                   \n",
      " movement_reactions          | 66                   \n",
      " movement_balance            | 37                   \n",
      " power_shot_power            | 24                   \n",
      " power_jumping               | 33                   \n",
      " power_stamina               | 38                   \n",
      " power_strength              | 81                   \n",
      " power_long_shots            | 17                   \n",
      " mentality_aggression        | 17                   \n",
      " mentality_interceptions     | 17                   \n",
      " mentality_positioning       | 13                   \n",
      " mentality_vision            | 41                   \n",
      " mentality_penalties         | 25                   \n",
      " mentality_composure         | 22                   \n",
      " defending_marking_awareness | 14                   \n",
      " defending_standing_tackle   | 12                   \n",
      " defending_sliding_tackle    | 20                   \n",
      " goalkeeping_diving          | 65                   \n",
      " goalkeeping_handling        | 77                   \n",
      " goalkeeping_kicking         | 65                   \n",
      " goalkeeping_positioning     | 79                   \n",
      " goalkeeping_reflexes        | 68                   \n",
      " ls                          | 26                   \n",
      " st                          | 26                   \n",
      " rs                          | 26                   \n",
      " lw                          | 25                   \n",
      " lf                          | 25                   \n",
      " cf                          | 25                   \n",
      " rf                          | 25                   \n",
      " rw                          | 25                   \n",
      " lam                         | 28                   \n",
      " cam                         | 28                   \n",
      " ram                         | 28                   \n",
      " lm                          | 28                   \n",
      " lcm                         | 28                   \n",
      " cm                          | 28                   \n",
      " rcm                         | 28                   \n",
      " rm                          | 28                   \n",
      " lwb                         | 27                   \n",
      " ldm                         | 27                   \n",
      " cdm                         | 27                   \n",
      " rdm                         | 27                   \n",
      " rwb                         | 27                   \n",
      " lb                          | 26                   \n",
      " lcb                         | 27                   \n",
      " cb                          | 27                   \n",
      " rcb                         | 27                   \n",
      " rb                          | 26                   \n",
      " gk                          | 72                   \n",
      " year                        | 2017                 \n",
      " gender                      | 1                    \n",
      "only showing top 1 row\n",
      "\n"
     ]
    }
   ],
   "source": [
    "df_read = sqlContext.read.format(\"jdbc\")\\\n",
    "    .option(\"url\", db_properties['url'])\\\n",
    "    .option(\"dbtable\", db_properties['table'])\\\n",
    "    .option(\"user\", db_properties['username'])\\\n",
    "    .option(\"password\", db_properties['password'])\\\n",
    "    .option(\"Driver\", db_properties['driver'])\\\n",
    "    .load()\n",
    "\n",
    "df_read.show(1, vertical=True)"
   ]
  },
  {
   "cell_type": "code",
   "execution_count": 60,
   "id": "b4627536-8b5d-49b7-b202-8ec3be54023f",
   "metadata": {},
   "outputs": [],
   "source": [
    "x = 2015  \n",
    "y = 5   \n",
    "z = 2018"
   ]
  },
  {
   "cell_type": "code",
   "execution_count": 61,
   "id": "bd560a81-89b1-4af6-8d4c-0128286c673f",
   "metadata": {},
   "outputs": [
    {
     "name": "stdout",
     "output_type": "stream",
     "text": [
      "+----------------+\n",
      "|       club_name|\n",
      "+----------------+\n",
      "|         Unknown|\n",
      "|  Fortaleza CEIF|\n",
      "|   CD Huachipato|\n",
      "| Boyacá Chicó FC|\n",
      "|Rionegro Águilas|\n",
      "+----------------+\n",
      "\n"
     ]
    }
   ],
   "source": [
    "from pyspark.sql import functions as F\n",
    "df_filter=df_read.filter((df_read['year']==x)&(df_read['club_contract_valid_until']>=z))\n",
    "df_agg=df_filter.groupBy('club_name').agg(F.count('sofifa_id').alias('player_count'))\n",
    "df_club_order=df_agg.orderBy(F.desc('player_count')).limit(y)\n",
    "df_club_order.select('club_name').show()\n",
    " \n",
    "                                          "
   ]
  },
  {
   "cell_type": "code",
   "execution_count": 62,
   "id": "1ac01729-1631-427f-bdc3-d13bb975c61c",
   "metadata": {},
   "outputs": [
    {
     "name": "stdout",
     "output_type": "stream",
     "text": [
      "+----+----------------+-------------+\n",
      "|year|nationality_name|players_count|\n",
      "+----+----------------+-------------+\n",
      "|2015|         England|         1627|\n",
      "|2016|         England|         1540|\n",
      "|2017|         England|         1650|\n",
      "|2018|         England|         1656|\n",
      "|2019|         England|         1648|\n",
      "|2020|         England|         1693|\n",
      "|2021|         England|         1708|\n",
      "|2022|         England|         1742|\n",
      "+----+----------------+-------------+\n",
      "\n"
     ]
    }
   ],
   "source": [
    "from pyspark.sql import Window\n",
    "df_agg=df_read.groupBy('year','nationality_name').agg(F.count('sofifa_id').alias('players_count'))\n",
    "windows=Window.partitionBy('year')\n",
    "windows_desc=windows.orderBy(F.desc('players_count'))\n",
    "df_year_nation_rank=df_agg.withColumn('rank',F.row_number().over(windows_desc))\n",
    "df_rank1=df_year_nation_rank.filter(F.col('rank')==1).select('year', 'nationality_name', 'players_count').show()"
   ]
  },
  {
   "cell_type": "code",
   "execution_count": 63,
   "id": "5288ed14-ac58-4368-a18c-f2f0aba9debd",
   "metadata": {},
   "outputs": [],
   "source": [
    "df=df_read"
   ]
  },
  {
   "cell_type": "code",
   "execution_count": 64,
   "id": "ca1a08a6-2129-465d-9af8-087e250f4bf3",
   "metadata": {},
   "outputs": [],
   "source": [
    "import sys\n",
    "from pyspark.sql.functions import avg, desc,asc, col\n",
    "x=5\n",
    "y=2015\n",
    "sequence='desc'\n",
    "if x<=0:\n",
    "    print('error')\n",
    "    sys.exit()\n",
    "df_year=df.filter(df['year']==y)\n",
    "df_club=df_year.groupBy('club_name')\n",
    "df_avg=df_club.agg(avg('age').alias('avg_age'))\n",
    "if sequence=='desc':\n",
    "    df_seq=df_avg.orderBy(desc('avg_age'))\n",
    "elif sequence=='asc':\n",
    "    df_seq=df_avg.orderBy(asc('avg_age'))\n"
   ]
  },
  {
   "cell_type": "code",
   "execution_count": 65,
   "id": "7006f22f-faae-4eab-b0c1-bec21d262d77",
   "metadata": {},
   "outputs": [
    {
     "data": {
      "text/plain": [
       "[Row(club_name='Cruz Azul', avg_age=28.071428571428573),\n",
       " Row(club_name='Arsenal Tula', avg_age=28.04),\n",
       " Row(club_name='Podbeskidzie Bielsko-Biała', avg_age=27.962962962962962),\n",
       " Row(club_name='Fenerbahçe SK', avg_age=27.88),\n",
       " Row(club_name='Leones Negros de la UdeG', avg_age=27.79310344827586)]"
      ]
     },
     "execution_count": 65,
     "metadata": {},
     "output_type": "execute_result"
    }
   ],
   "source": [
    "df_rows=df_seq.limit(x).collect()\n",
    "last_row=df_rows[-1]\n",
    "df_same=df_seq.filter(col('avg_age')==last_row['avg_age']).collect()\n",
    "\n",
    "df_other=[row for row in df_rows if row['avg_age']!=last_row['avg_age']]\n",
    "df_final=df_other+df_same\n",
    "df_final"
   ]
  },
  {
   "cell_type": "code",
   "execution_count": null,
   "id": "b66755ca-00e5-43e9-a417-5246dd2b53de",
   "metadata": {},
   "outputs": [],
   "source": []
  }
 ],
 "metadata": {
  "kernelspec": {
   "display_name": "Python 3 (ipykernel)",
   "language": "python",
   "name": "python3"
  },
  "language_info": {
   "codemirror_mode": {
    "name": "ipython",
    "version": 3
   },
   "file_extension": ".py",
   "mimetype": "text/x-python",
   "name": "python",
   "nbconvert_exporter": "python",
   "pygments_lexer": "ipython3",
   "version": "3.9.18"
  }
 },
 "nbformat": 4,
 "nbformat_minor": 5
}
